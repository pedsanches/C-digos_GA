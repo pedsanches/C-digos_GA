{
  "nbformat": 4,
  "nbformat_minor": 0,
  "metadata": {
    "colab": {
      "name": "GA_Caixeiro.ipynb",
      "provenance": [],
      "collapsed_sections": [],
      "authorship_tag": "ABX9TyOcbbNk40G4NAqsLLlud3gB",
      "include_colab_link": true
    },
    "kernelspec": {
      "name": "python3",
      "display_name": "Python 3"
    },
    "language_info": {
      "name": "python"
    }
  },
  "cells": [
    {
      "cell_type": "markdown",
      "metadata": {
        "id": "view-in-github",
        "colab_type": "text"
      },
      "source": [
        "<a href=\"https://colab.research.google.com/github/pedsanches/C-digos_GA/blob/main/GA_Caixeiro.ipynb\" target=\"_parent\"><img src=\"https://colab.research.google.com/assets/colab-badge.svg\" alt=\"Open In Colab\"/></a>"
      ]
    },
    {
      "cell_type": "code",
      "execution_count": null,
      "metadata": {
        "id": "xNPLHWK2Y7hD"
      },
      "outputs": [],
      "source": [
        "%matplotlib inline\n",
        "import matplotlib.pyplot as plt\n",
        "plt.style.use('seaborn-whitegrid')\n",
        "import numpy as np\n",
        "import random\n",
        "import matplotlib.cm as cm\n",
        "from numpy import loadtxt\n",
        "import pandas as pd\n",
        "import re\n",
        "import time\n",
        "import networkx as nx\n",
        "#import matplotlib.animation as animation\n",
        "from matplotlib.animation import PillowWriter\n",
        "import imageio\n",
        "from matplotlib.animation import FuncAnimation\n",
        "from IPython import display\n"
      ]
    },
    {
      "cell_type": "markdown",
      "source": [
        "#*GeraBase*"
      ],
      "metadata": {
        "id": "iAs-v2GAZJUX"
      }
    },
    {
      "cell_type": "code",
      "source": [
        "\n",
        "dist_maxima = 1000\n",
        "matriz = [\n",
        "        [\n",
        "            0, 548, 776, 696, 582, 274, 502, 194, 308, 194, 536, 502, 388, 354,\n",
        "            468, 776, 662\n",
        "        ],\n",
        "        [\n",
        "            548, 0, 684, 308, 194, 502, 730, 354, 696, 742, 1084, 594, 480, 674,\n",
        "            1016, 868, 1210\n",
        "        ],\n",
        "        [\n",
        "            776, 684, 0, 992, 878, 502, 274, 810, 468, 742, 400, 1278, 1164,\n",
        "            1130, 788, 1552, 754\n",
        "        ],\n",
        "        [\n",
        "            696, 308, 992, 0, 114, 650, 878, 502, 844, 890, 1232, 514, 628, 822,\n",
        "            1164, 560, 1358\n",
        "        ],\n",
        "        [\n",
        "            582, 194, 878, 114, 0, 536, 764, 388, 730, 776, 1118, 400, 514, 708,\n",
        "            1050, 674, 1244\n",
        "        ],\n",
        "        [\n",
        "            274, 502, 502, 650, 536, 0, 228, 308, 194, 240, 582, 776, 662, 628,\n",
        "            514, 1050, 708\n",
        "        ],\n",
        "        [\n",
        "            502, 730, 274, 878, 764, 228, 0, 536, 194, 468, 354, 1004, 890, 856,\n",
        "            514, 1278, 480\n",
        "        ],\n",
        "        [\n",
        "            194, 354, 810, 502, 388, 308, 536, 0, 342, 388, 730, 468, 354, 320,\n",
        "            662, 742, 856\n",
        "        ],\n",
        "        [\n",
        "            308, 696, 468, 844, 730, 194, 194, 342, 0, 274, 388, 810, 696, 662,\n",
        "            320, 1084, 514\n",
        "        ],\n",
        "        [\n",
        "            194, 742, 742, 890, 776, 240, 468, 388, 274, 0, 342, 536, 422, 388,\n",
        "            274, 810, 468\n",
        "        ],\n",
        "        [\n",
        "            536, 1084, 400, 1232, 1118, 582, 354, 730, 388, 342, 0, 878, 764,\n",
        "            730, 388, 1152, 354\n",
        "        ],\n",
        "        [\n",
        "            502, 594, 1278, 514, 400, 776, 1004, 468, 810, 536, 878, 0, 114,\n",
        "            308, 650, 274, 844\n",
        "        ],\n",
        "        [\n",
        "            388, 480, 1164, 628, 514, 662, 890, 354, 696, 422, 764, 114, 0, 194,\n",
        "            536, 388, 730\n",
        "        ],\n",
        "        [\n",
        "            354, 674, 1130, 822, 708, 628, 856, 320, 662, 388, 730, 308, 194, 0,\n",
        "            342, 422, 536\n",
        "        ],\n",
        "        [\n",
        "            468, 1016, 788, 1164, 1050, 514, 514, 662, 320, 274, 388, 650, 536,\n",
        "            342, 0, 764, 194\n",
        "        ],\n",
        "        [\n",
        "            776, 868, 1552, 560, 674, 1050, 1278, 742, 1084, 810, 1152, 274,\n",
        "            388, 422, 764, 0, 798\n",
        "        ],\n",
        "        [\n",
        "            662, 1210, 754, 1358, 1244, 708, 480, 856, 514, 468, 354, 844, 730,\n",
        "            536, 194, 798, 0\n",
        "        ],\n",
        "    ]\n",
        "\n",
        "locations = \\\n",
        "            [(4, 4),  \n",
        "             (2, 0), (8, 0), \n",
        "             (0, 1), (1, 1),\n",
        "             (5, 2), (7, 2),\n",
        "             (3, 3), (6, 3),\n",
        "             (5, 5), (8, 5),\n",
        "             (1, 6), (2, 6),\n",
        "             (3, 7), (6, 7),\n",
        "             (0, 8), (7, 8),]\n",
        "\n",
        "\n",
        "num_cidades = len(matriz[0])\n",
        "print(num_cidades)"
      ],
      "metadata": {
        "id": "QtC_LpSQaGy-",
        "colab": {
          "base_uri": "https://localhost:8080/"
        },
        "outputId": "ca74ee60-bd34-4a93-f1e3-85dbffe7f3ab"
      },
      "execution_count": null,
      "outputs": [
        {
          "output_type": "stream",
          "name": "stdout",
          "text": [
            "17\n"
          ]
        }
      ]
    },
    {
      "cell_type": "markdown",
      "source": [
        "#GeraPOP"
      ],
      "metadata": {
        "id": "mDNtsOs9g-8c"
      }
    },
    {
      "cell_type": "code",
      "source": [
        "def gera_indv():\n",
        "  indv = []\n",
        "  while len(indv) != num_cidades:\n",
        "    r = random.randint(1, num_cidades)\n",
        "    if r not in indv:\n",
        "      indv.append(r)\n",
        "  return indv.copy()"
      ],
      "metadata": {
        "id": "umdsNV-lZIhH"
      },
      "execution_count": null,
      "outputs": []
    },
    {
      "cell_type": "markdown",
      "source": [
        "#Crossover"
      ],
      "metadata": {
        "id": "2Dv4jKYQhreE"
      }
    },
    {
      "cell_type": "code",
      "source": [
        "taxa_crossover = 0.5\n",
        "taxa_mut = 0.5\n",
        "\n",
        "def crossover(pai1,pai2):\n",
        "  filho1 = []\n",
        "  filho2 = []\n",
        "  pcut1 = random.randint(0, num_cidades-3)\n",
        "  pcut2 = random.randint(pcut1+1, num_cidades-2)\n",
        "  #pcut1 = 2\n",
        "  #pcut2 = 5\n",
        "  end1 = []\n",
        "  end2 = []\n",
        "  start1 = []\n",
        "  start2 = []\n",
        "  retorno = []\n",
        "  \n",
        "  #print(pcut1,pcut2)\n",
        "  cont = 0\n",
        "  cont2 = 0\n",
        "  if(random.random() <= taxa_crossover):\n",
        "    for i in range(num_cidades):\n",
        "      filho1.append(0)\n",
        "      filho2.append(0)\n",
        "\n",
        "\n",
        "    #colocando o meio dos dois pais nos filhos\n",
        "    for i in range(pcut2+1):\n",
        "      if(i <= pcut1):\n",
        "        continue    \n",
        "      #print(i)\n",
        "      filho1[i] = (pai1[i])\n",
        "      filho2[i] = (pai2[i])\n",
        "\n",
        "    for i in range(num_cidades):\n",
        "      if(i <= pcut2):\n",
        "        continue    \n",
        "      #print(i)\n",
        "      if(pai2[i] not in filho1):\n",
        "        end1.append(pai2[i])\n",
        "\n",
        "      if(pai1[i] not in filho2):\n",
        "        end2.append(pai1[i])\n",
        "    \n",
        "    for i in range(pcut2+1):\n",
        "      if(pai2[i] not in filho1):\n",
        "        start1.append(pai2[i])\n",
        "\n",
        "      if(pai1[i] not in filho2):\n",
        "        start2.append(pai1[i])\n",
        "\n",
        "    for i in range(num_cidades):\n",
        "      if(i <= pcut2):\n",
        "        continue\n",
        "      filho1[i] = (end1+start1)[cont] \n",
        "      filho2[i] = (end2+start2)[cont]\n",
        "      cont+=1\n",
        "    \n",
        "    for i in range(pcut1+1):\n",
        "      filho1[i] = (end1+start1)[cont] \n",
        "      filho2[i] = (end2+start2)[cont]\n",
        "      cont+=1\n",
        "    \n",
        "  else:\n",
        "    filho1 = pai1.copy()\n",
        "    filho2 = pai2.copy()\n",
        "\n",
        "  if(random.random()<=taxa_mut):\n",
        "      num = random.randint(1,3)\n",
        "      if(num==1):\n",
        "        filho1 = mutacao_2opt(filho1.copy())\n",
        "      if(num==2):\n",
        "        filho1 = mutacao_insert(filho1.copy())\n",
        "      if(num==3):\n",
        "        filho1 = mutacao_swap(filho1.copy())\n",
        "        \n",
        "    \n",
        "  if(random.random()<=taxa_mut):\n",
        "      num = random.randint(1,3)\n",
        "      if(num==1):\n",
        "        filho2 = mutacao_2opt(filho2.copy())\n",
        "      if(num==2):\n",
        "        filho2 = mutacao_insert(filho2.copy())\n",
        "      if(num==3):\n",
        "        filho2 = mutacao_swap(filho2.copy())\n",
        "\n",
        "  #print((end1+start1),end2+start1)\n",
        "  #print(filho1, filho2)\n",
        "  #for i in range(pcut1+1):\n",
        "    #start1.append(pai1[i])\n",
        "    #start2.append(pai2[i])\n",
        "\n",
        "  #for i in range(num_cidades):\n",
        "    #if(i <= pcut1):\n",
        "      #completo1.append(start1[i])\n",
        "      #completo2.append(start2[i])\n",
        "    #else:\n",
        "       #if(i <= pcut2):\n",
        "         #completo1.append(middle1[i-pcut1-1])\n",
        "         #completo2.append(middle2[i-pcut1-1])\n",
        "       #else:\n",
        "          #completo1.append(end1[i-pcut2-1])\n",
        "          #completo2.append(end2[i-pcut2-1])\n",
        "    \n",
        "    \n",
        "  #filho1.insert(0,8)\n",
        "  #filho1.insert(1,9)\n",
        "  #print(\"Pontos de corte: \",pcut1,pcut2,\" filhos:\",filho1,filho2)    \n",
        "  #print(completo1,completo2)\n",
        "  #print(start1,middle1,end1)  \n",
        "  #print(start2,middle2,end2)\n",
        "  retorno.append(filho1.copy())\n",
        "  retorno.append(filho2.copy())\n",
        "  return retorno.copy()\n",
        "  "
      ],
      "metadata": {
        "id": "mDmMCMfmhuCK"
      },
      "execution_count": null,
      "outputs": []
    },
    {
      "cell_type": "markdown",
      "source": [
        "#Mutação"
      ],
      "metadata": {
        "id": "zhKIpKXEkqRp"
      }
    },
    {
      "cell_type": "code",
      "source": [
        "def mutacao_2opt(indv):\n",
        "  if(len(indv)==18):\n",
        "   del(indv[17])\n",
        "  aux = [] \n",
        "  while(len(aux)!= 2):\n",
        "    numero = random.randint(0,len(indv)-1)\n",
        "    if(numero not in aux):\n",
        "      aux.append(numero)\n",
        "  #print(len)\n",
        "  #print(indv[aux[0]]-1,indv[aux[1]]-1)\n",
        "  #print(\"i,j:\",matriz[indv[aux[0]]-1][indv[aux[0]+1]-1], \" k,m:\", matriz[indv[aux[1]]-1][indv[aux[1]+1]-1])\n",
        "  #print(\"i,m:\",matriz[indv[aux[0]]-1][indv[aux[1]+1]-1],\" k,j:\", matriz[indv[aux[1]]-1][indv[aux[0]+1]-1])\n",
        "  if(aux[0] == len(indv)-1):\n",
        "    if((matriz[indv[aux[0]]-1][0] + matriz[indv[aux[1]]-1][indv[aux[1]+1]-1]) > (matriz[indv[aux[0]]-1][indv[aux[1]+1]-1] + matriz[indv[aux[1]]-1][0])):\n",
        "      num_j = indv[0]\n",
        "      num_m = indv[aux[1]+1]\n",
        "      indv[0] = num_m\n",
        "      indv[aux[1]+1] = num_j\n",
        "  if (aux[1] == len(indv)-1):\n",
        "    if((matriz[indv[aux[0]]-1][indv[aux[0]+1]-1] + matriz[indv[aux[1]]-1][0]) > (matriz[indv[aux[0]]-1][0] + matriz[indv[aux[1]]-1][indv[aux[0]+1]-1])):\n",
        "      num_j = indv[aux[0]+1]\n",
        "      num_m = indv[0]\n",
        "      indv[aux[0]+1] = num_m\n",
        "      indv[0] = num_j\n",
        "  if(aux[1] != len(indv)-1 and aux[0] != len(indv)-1):\n",
        "    #print(aux[0],aux[1])\n",
        "    if((matriz[indv[aux[0]]-1][indv[aux[0]+1]-1] + matriz[indv[aux[1]]-1][indv[aux[1]+1]-1]) > (matriz[indv[aux[0]]-1][indv[aux[1]+1]-1] + matriz[indv[aux[1]]-1][indv[aux[0]+1]-1])):\n",
        "      \n",
        "      num_j = indv[aux[0]+1]\n",
        "      num_m = indv[aux[1]+1]\n",
        "      indv[aux[0]+1] = num_m\n",
        "      indv[aux[1]+1] = num_j\n",
        "\n",
        "  return indv.copy()"
      ],
      "metadata": {
        "id": "mTYSaT2UkrtA"
      },
      "execution_count": null,
      "outputs": []
    },
    {
      "cell_type": "code",
      "source": [
        "def mutacao_swap(indv):\n",
        "  if(len(indv)==18):\n",
        "   del(indv[17])\n",
        "  n1 = n2 = random.randint(0,num_cidades-1)\n",
        "  aux2 = aux1 = indv[n1]\n",
        "  while(aux2 == aux1):\n",
        "    n2 = random.randint(0,num_cidades-1)\n",
        "    aux2 = indv[n2]\n",
        "  indv[n1] = aux2\n",
        "  indv[n2]  = aux1\n",
        "  return  indv.copy()"
      ],
      "metadata": {
        "id": "NKkZtqwES0dH"
      },
      "execution_count": null,
      "outputs": []
    },
    {
      "cell_type": "code",
      "source": [
        "def mutacao_insert(indv):\n",
        "  if(len(indv)==18):\n",
        "   del(indv[17])\n",
        "  n1 = n2 = random.randint(0,num_cidades-1)\n",
        "  while(n1 == n2):\n",
        "    n2 = random.randint(0,num_cidades-1)\n",
        "  aux = indv[n1]\n",
        "  del(indv[n1])\n",
        "  i = len(indv)\n",
        "  indv.append(0)\n",
        "  while(i >=0 ):\n",
        "    indv[i] = indv[i-1]\n",
        "    i-=1\n",
        "    if(i == n2):\n",
        "      break\n",
        "  indv[n2] = aux\n",
        "  return indv.copy()"
      ],
      "metadata": {
        "id": "hM1m2Er4XqrF"
      },
      "execution_count": null,
      "outputs": []
    },
    {
      "cell_type": "markdown",
      "source": [
        "#Fitness\n"
      ],
      "metadata": {
        "id": "NKUGNGxPkz2W"
      }
    },
    {
      "cell_type": "code",
      "source": [
        "def fitness(indv):\n",
        "    soma_dist = 0\n",
        "    for i in range(num_cidades):\n",
        "      if(i == num_cidades-1):\n",
        "        soma_dist += matriz[indv[i]-1][0]\n",
        "      else: \n",
        "        soma_dist += matriz[indv[i]-1][indv[i+1]-1]\n",
        "      #print(matriz[indv[i]-1][indv[i+1]-1],soma_dist)\n",
        "    \n",
        "    if(len(indv) == num_cidades+1):\n",
        "      indv[num_cidades] = soma_dist\n",
        "    else:\n",
        "      indv.append(soma_dist)\n",
        "    return indv.copy()"
      ],
      "metadata": {
        "id": "gpajDCFUk1h2"
      },
      "execution_count": null,
      "outputs": []
    },
    {
      "cell_type": "markdown",
      "source": [
        "#Roleta"
      ],
      "metadata": {
        "id": "kCr7Hoe9o_VA"
      }
    },
    {
      "cell_type": "code",
      "source": [
        "def Roleta(pop):\n",
        "  soma_fitness = 0\n",
        "  soma_aux = 0\n",
        "  for i in range(tam_pop):\n",
        "    soma_fitness += pop[i][num_cidades]\n",
        "  \n",
        "  int_aux = random.randint(0,soma_fitness)\n",
        "  \n",
        "  for i in range(tam_pop):\n",
        "    if(soma_aux <= int_aux and int_aux<= (soma_aux + pop[i][num_cidades])):\n",
        "      return pop[i].copy()\n",
        "    soma_aux += pop[i][num_cidades]\n",
        "  return pop[i].copy()"
      ],
      "metadata": {
        "id": "-xwoG5T8pAae"
      },
      "execution_count": null,
      "outputs": []
    },
    {
      "cell_type": "markdown",
      "source": [
        "#Sobrevivência"
      ],
      "metadata": {
        "id": "cisJpYoeBoW9"
      }
    },
    {
      "cell_type": "code",
      "source": [
        "def sobreviv_metade(select,pais):\n",
        "    select += pais.copy()\n",
        "\n",
        "    for i in range(tam_pop):\n",
        "      select[i] = fitness(select[i].copy())\n",
        "\n",
        "    select.sort(key= lambda fitness : fitness[num_cidades])\n",
        "\n",
        "    del select[tam_pop:]\n",
        "    #print(len(select))\n",
        "\n",
        "    return select.copy()"
      ],
      "metadata": {
        "id": "Q4n0sQfgBqhs"
      },
      "execution_count": null,
      "outputs": []
    },
    {
      "cell_type": "code",
      "source": [
        "def sobreviv_melhorpai(select,pais,numero):\n",
        "  sorteados = []\n",
        "  pais.sort(key= lambda fitness : fitness[num_cidades])\n",
        "  for i in range(numero):\n",
        "    aux = random.randint(0,num_cidades-1)\n",
        "    if(aux not in sorteados):\n",
        "      select[aux] = pais[i].copy()\n",
        "      sorteados.append(aux)\n",
        "    else:\n",
        "      i-=1\n",
        "  return select.copy()"
      ],
      "metadata": {
        "id": "nwu9utRBNidv"
      },
      "execution_count": null,
      "outputs": []
    },
    {
      "cell_type": "markdown",
      "source": [
        "#MediaFitness"
      ],
      "metadata": {
        "id": "y5oak-slIKkk"
      }
    },
    {
      "cell_type": "code",
      "source": [
        "def calc_media(vet):\n",
        "  soma = 0\n",
        "  for i in range(tam_pop):\n",
        "    soma += vet[i][num_cidades]\n",
        "  \n",
        "  return soma/tam_pop\n"
      ],
      "metadata": {
        "id": "2rjqawecIHtK"
      },
      "execution_count": null,
      "outputs": []
    },
    {
      "cell_type": "markdown",
      "source": [
        "#Desenha Grafo"
      ],
      "metadata": {
        "id": "aMlz7E-e_fFl"
      }
    },
    {
      "cell_type": "code",
      "source": [
        "def desenha(indv,inc):\n",
        "  mum = 1\n",
        "  x = []\n",
        "  y = []\n",
        "  for i in indv:\n",
        "    if(i>=num_cidades):\n",
        "      continue\n",
        "    x.append(locations[i-1][0])\n",
        "    y.append(locations[i-1][1])\n",
        "\n",
        "  a_scale = float(max(x))/float(100)\n",
        "  fig = plt.figure()\n",
        "  plt.arrow(x[-1], y[-1], (x[0] - x[-1]), (y[0] - y[-1]), head_width = a_scale,\n",
        "          color ='b', length_includes_head=True)\n",
        "  for i in range(0,len(x)-1):\n",
        "      plt.arrow(x[i], y[i], (x[i+1] - x[i]), (y[i+1] - y[i]), head_width = a_scale,\n",
        "              color = 'b', length_includes_head = True)\n",
        "\n",
        "  plt.xlim(-2, 10)\n",
        "  plt.ylim(-2, 10)\n",
        "  plt.title(inc)\n",
        "  fig.canvas.draw()       # draw the canvas, cache the renderer\n",
        "  image = np.frombuffer(fig.canvas.tostring_rgb(), dtype='uint8')\n",
        "  image  = image.reshape(fig.canvas.get_width_height()[::-1] + (3,))\n",
        "\n",
        "  return image\n",
        "\n",
        "def testa(lista_pais):\n",
        "  kwargs_write = {'fps':4, 'quantizer':'nq'}\n",
        "  imageio.mimsave('./powers.mp4', [desenha(lista_pais[i],i) for i in range(len(lista_pais))], fps=4)\n",
        "\n"
      ],
      "metadata": {
        "id": "2fNCNBrE_hpc"
      },
      "execution_count": null,
      "outputs": []
    },
    {
      "cell_type": "code",
      "source": [
        "def plot_tour(tour, style='bo-'): \n",
        "    \"Plot every city and link in the tour, and highlight start city.\"\n",
        "    if len(tour) > 1000: plt.figure(figsize=(15, 10))\n",
        "    start = tour[0:1]\n",
        "    plot_segment(tour + start, style)\n",
        "    plot_segment(start, 'rD')\n",
        "\n",
        "def plot_segment(segment, style='bo-'):\n",
        "    \"Plot every city and link in the segment.\"\n",
        "    plt.plot([X(c) for c in segment], [Y(c) for c in segment], style, clip_on=False)\n",
        "    plt.axis('scaled')\n",
        "    plt.axis('off')\n",
        "    \n",
        "def X(city): \"X coordinate.\"; return city.real\n",
        "def Y(city): \"Y coordinate.\"; return city.imag\n",
        "\n",
        "def gera_resultado(caminho):\n",
        "  resultado = []\n",
        "  City = complex\n",
        "  for i in range(num_cidades):\n",
        "    resultado.append(City(locations[caminho[i]-1][0],locations[caminho[i]-1][1]))\n",
        "  return resultado.copy()\n"
      ],
      "metadata": {
        "id": "ogI0nGiwMzv-"
      },
      "execution_count": null,
      "outputs": []
    },
    {
      "cell_type": "markdown",
      "source": [
        "#Main"
      ],
      "metadata": {
        "id": "KblOHKLKkr8e"
      }
    },
    {
      "cell_type": "code",
      "source": [
        "global tam_pop\n",
        "global pop\n",
        "geracao_g = 200\n",
        "tam_pop = 200\n",
        "pop = []\n",
        "\n",
        "def main():\n",
        "  pop = []\n",
        "  filhos = []\n",
        "  todas_medias = []\n",
        "  todos_mel_pais = []\n",
        "  geracoes = 0\n",
        "  for i in range(tam_pop):\n",
        "    pop.append(gera_indv().copy())\n",
        "\n",
        "  while(True):\n",
        "    geracoes +=1\n",
        "    for i in range(tam_pop):\n",
        "      pop[i] = fitness(pop[i].copy())\n",
        "\n",
        "    pop.sort(key= lambda fitness : fitness[num_cidades])\n",
        "    #desenha(pop[0])\n",
        "    todas_medias.append(calc_media(pop.copy()))\n",
        "    todos_mel_pais.append(pop[0])\n",
        "\n",
        "    for i in range(int (tam_pop/2)):\n",
        "      filhos += crossover(Roleta(pop),Roleta(pop)).copy()\n",
        "    \n",
        "    pop = sobreviv_metade(filhos.copy(),pop.copy()).copy()\n",
        "    #pop = sobreviv_melhorpai(filhos.copy(),pop.copy(),15).copy()\n",
        "    filhos = []\n",
        "    if(geracoes == geracao_g):\n",
        "      break\n",
        "    \n",
        "\n",
        "  return [geracoes,todas_medias, todos_mel_pais]"
      ],
      "metadata": {
        "id": "96ofIdwrks_z"
      },
      "execution_count": null,
      "outputs": []
    },
    {
      "cell_type": "code",
      "source": [
        ""
      ],
      "metadata": {
        "id": "7MJokN1hJ0-k"
      },
      "execution_count": null,
      "outputs": []
    },
    {
      "cell_type": "markdown",
      "source": [
        "#Gráficos:\n"
      ],
      "metadata": {
        "id": "kOvXCBGyi8S6"
      }
    },
    {
      "cell_type": "code",
      "source": [
        "num_repet = 30\n",
        "maiores1 = []\n",
        "maiores2 = []\n",
        "maiores3 = []\n",
        "\n",
        "somatotal1 = 0\n",
        "\n",
        "for i in range(num_repet):\n",
        "  start = time.perf_counter()\n",
        "\n",
        "  #1\n",
        "  geracao_g = 50\n",
        "  tam_pop = 800\n",
        "  taxa_crossover = 0.5\n",
        "  taxa_mut = 0.8\n",
        "  run1 = main()\n",
        "\n",
        "  #2\n",
        "  geracao_g = 50\n",
        "  tam_pop = 400\n",
        "  taxa_crossover = 0.5\n",
        "  taxa_mut = 0.8\n",
        "  #run2 = main()\n",
        "\n",
        "  #3\n",
        "  geracao_g = 1\n",
        "  tam_pop = 1\n",
        "  taxa_crossover = 0.6\n",
        "  taxa_mut = 0.8\n",
        "  #run3 = main()\n",
        "  \n",
        "  \n",
        "  \n",
        "  end = time.perf_counter()\n",
        "  medias = run1[1]\n",
        "\n",
        "  geracao1 = run1[0]\n",
        "  mel_pais1 = run1[2]\n",
        "  fit_melpais1 = []\n",
        "\n",
        "  #geracao2 = run2[0]\n",
        "  #mel_pais2 = run2[2]\n",
        "  #fit_melpais2 = []\n",
        "\n",
        "  #geracao3 = run3[0]\n",
        "  #mel_pais3 = run3[2]\n",
        "  #fit_melpais3 = []\n",
        "\n",
        "  for i in range(geracao1):\n",
        "    fit_melpais1.append(mel_pais1[i][num_cidades]) \n",
        "    del(mel_pais1[i][num_cidades])\n",
        "  #for i in range(geracao2):\n",
        "    #fit_melpais2.append(mel_pais2[i][num_cidades]) \n",
        "    #del(mel_pais2[i][num_cidades])\n",
        "  #for i in range(geracao3):\n",
        "    #fit_melpais3.append(mel_pais3[i][num_cidades]) \n",
        "    #del(mel_pais3[i][num_cidades])\n",
        "  #plt.plot(range(run1[0]), medias,label = 'Média')\n",
        "  #plt.plot(range(run1[0]), fit_melpais1,label = 'Melhores pais')\n",
        "  #plt.title(\"Convergência em uma das execuções\")\n",
        "  #plt.xlabel('Geração')\n",
        "  #plt.ylabel('Fitness')\n",
        "  #plt.legend()\n",
        "  #plt.show()\n",
        "  \n",
        "  #print(fit_melpais[geracao-1])\n",
        "  #plt.plot(range(geracao), medias)\n",
        "  #plt.title(\"Media de cada geração\")\n",
        "  #plt.show()\n",
        "  #print(\"Tempo de execução com \",geracao,\"geracoes: \",(end-start)/1000,\"ms\")\n",
        "  #plot_tour(gera_resultado(mel_pais[geracao-1]))\n",
        "    \n",
        "  #def update(i):  \n",
        "    #x.append(i)  \n",
        "    #ysin.append(np.sin(i))  \n",
        "    #ycos.append(np.cos(i))  \n",
        "    #ln1.set_data(x, ysin)  \n",
        "    #ln2.set_data(x, ycos)\n",
        "  \n",
        "  #ani = FuncAnimation(fig, update, np.linspace(0, 2*np.pi, 64), init_func=init)  \n",
        "  #plt.show()\n",
        "\n",
        "  #plt.title(fit_melpais[geracao-1])\n",
        "\n",
        "  #plt.show()\n",
        "\n",
        "  #testa(mel_pais)\n",
        "  fit_melpais1.sort()\n",
        "  #fit_melpais2.sort()\n",
        "  #fit_melpais3.sort()\n",
        "  maiores1.append(min(fit_melpais1))\n",
        "  #maiores2.append(min(fit_melpais2))\n",
        "  #maiores3.append(min(fit_melpais3))\n",
        "\n",
        "maiores1.sort()\n",
        "#maiores2.sort()\n",
        "#maiores3.sort()\n",
        "\n",
        "#for i in range(len(maiores)):\n",
        "  #somatotal1 += maiores[i]\n",
        "\n",
        "\n",
        "plt.figure(figsize=(12,8))\n",
        "plt.ylim(4100, 4700)\n",
        "plt.rcParams['ytick.labelsize'] = 16\n",
        "plt.rcParams['legend.fontsize'] = 16\n",
        "plt.xlabel('Experimento')\n",
        "plt.ylabel('Fitness')\n",
        "plt.boxplot(maiores1)\n",
        "plt.title('Boxplot da distância em 30 execuções')\n",
        "plt.show()\n",
        "\n",
        "#print(\"Grafico 1: Media:\",(pd.Series(maiores1)).mean(),\" Mediana:\",(pd.Series(maiores1)).median(),\" Variancia:\",(pd.Series(maiores1)).var(),\" Desvio Padrao:\",(pd.Series(maiores1)).std())\n",
        "#print(\"Grafico 2: Media:\",(pd.Series(maiores2)).mean(),\" Mediana:\",(pd.Series(maiores2)).median(),\" Variancia:\",(pd.Series(maiores2)).var(),\" Desvio Padrao:\",(pd.Series(maiores2)).std())\n",
        "#print(\"Grafico 3: Media:\",(pd.Series(maiores3)).mean(),\" Mediana:\",(pd.Series(maiores3)).median(),\" Variancia:\",(pd.Series(maiores3)).var(),\" Desvio Padrao:\",(pd.Series(maiores3)).std())\n",
        "#print(\"Media geral em\",num_repet,\" é:\",somatotal1/num_repet)\n",
        "#print(\"Melhor resultado geral\",min(maiores))"
      ],
      "metadata": {
        "colab": {
          "base_uri": "https://localhost:8080/"
        },
        "id": "V-4e1xAVFtrt",
        "outputId": "3d5b8bd5-6059-4969-8b2c-82476087e534"
      },
      "execution_count": null,
      "outputs": [
        {
          "output_type": "display_data",
          "data": {
            "text/plain": [
              "<Figure size 864x576 with 1 Axes>"
            ],
            "image/png": "[encoded data removed]"
          },
          "metadata": {
            "needs_background": "light"
          }
        }
      ]
    },
    {
      "cell_type": "code",
      "source": [
        ""
      ],
      "metadata": {
        "id": "1lCaTJEpuFvt"
      },
      "execution_count": null,
      "outputs": []
    }
  ]
}