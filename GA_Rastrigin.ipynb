{
  "nbformat": 4,
  "nbformat_minor": 0,
  "metadata": {
    "colab": {
      "name": "GA_Rastrigin.ipynb",
      "provenance": [],
      "collapsed_sections": [
        "mwLyrwYZTrWZ",
        "vL8-w6AhiPSG",
        "CwHlMhjEnVc-"
      ],
      "toc_visible": true,
      "authorship_tag": "ABX9TyOc3h9KwYWDRLhmXloIGTs9",
      "include_colab_link": true
    },
    "kernelspec": {
      "name": "python3",
      "display_name": "Python 3"
    },
    "language_info": {
      "name": "python"
    }
  },
  "cells": [
    {
      "cell_type": "markdown",
      "metadata": {
        "id": "view-in-github",
        "colab_type": "text"
      },
      "source": [
        "<a href=\"https://colab.research.google.com/github/pedsanches/C-digos_GA/blob/main/GA_Rastrigin.ipynb\" target=\"_parent\"><img src=\"https://colab.research.google.com/assets/colab-badge.svg\" alt=\"Open In Colab\"/></a>"
      ]
    },
    {
      "cell_type": "markdown",
      "source": [
        "#Imports"
      ],
      "metadata": {
        "id": "0NforjZar69z"
      }
    },
    {
      "cell_type": "code",
      "source": [
        "%matplotlib inline\n",
        "import matplotlib.pyplot as plt\n",
        "plt.style.use('seaborn-whitegrid')\n",
        "import numpy as np\n",
        "import matplotlib.cm as cm"
      ],
      "metadata": {
        "id": "oHwPFo0er5q7"
      },
      "execution_count": null,
      "outputs": []
    },
    {
      "cell_type": "markdown",
      "source": [
        "# Avaliador de fitness\n"
      ],
      "metadata": {
        "id": "mwLyrwYZTrWZ"
      }
    },
    {
      "cell_type": "code",
      "source": [
        "def avaliador(indv=[]):\n",
        "  #print(indv)\n",
        "  soma = 0\n",
        "  for i in range(2):\n",
        "    soma += (indv[i] ** 2) - 10 * math.cos(2 * math.pi * indv[i])\n",
        "  soma+=10*2\n",
        "  if(numpy.size(indv)==3):\n",
        "    indv[2] = soma\n",
        "  else:\n",
        "    indv.append(soma)\n",
        "  return indv"
      ],
      "metadata": {
        "id": "YFe7dw9rTwJY"
      },
      "execution_count": null,
      "outputs": []
    },
    {
      "cell_type": "markdown",
      "source": [
        "# Gerador do individuo "
      ],
      "metadata": {
        "id": "-tPUXClCPI74"
      }
    },
    {
      "cell_type": "code",
      "source": [
        "def gera_indviduo():\n",
        "  indv = [(random.random()-0.5)*10.24 , (random.random()-0.5)*10.24 ]\n",
        "  return indv"
      ],
      "metadata": {
        "id": "rdzAsEWCNi6R"
      },
      "execution_count": null,
      "outputs": []
    },
    {
      "cell_type": "markdown",
      "source": [
        "#Torneio\n"
      ],
      "metadata": {
        "id": "vL8-w6AhiPSG"
      }
    },
    {
      "cell_type": "code",
      "source": [
        "def torneio(pop=[]):\n",
        "  indv1 =  pop[random.randint(0,t_pop-1)]\n",
        "  indv2 =  pop[random.randint(0,t_pop-1)]\n",
        "  if(indv1[2] >= indv2[2]):\n",
        "    return indv2.copy()\n",
        "  else:\n",
        "    return indv1.copy()\n",
        "  "
      ],
      "metadata": {
        "id": "OjKj_eVijg7I"
      },
      "execution_count": null,
      "outputs": []
    },
    {
      "cell_type": "markdown",
      "source": [
        "# Crossover"
      ],
      "metadata": {
        "id": "CwHlMhjEnVc-"
      }
    },
    {
      "cell_type": "code",
      "source": [
        "def crossover(indv1=[], indv2=[]):\n",
        "  filho=[]\n",
        "  filhos=[]\n",
        "  #print(\"Pais\")\n",
        "  #print(indv1,indv2)\n",
        "  if (random.random()<= taxa_cros):  \n",
        "    filho.append(indv1[0])\n",
        "    filho.append(indv2[1])\n",
        "    filhos.append(filho)\n",
        "    filho=[]\n",
        "\n",
        "    filho.append(indv2[0])\n",
        "    filho.append(indv1[1])\n",
        "    filhos.append(filho)\n",
        "    filho=[]\n",
        "\n",
        "  else:\n",
        "    filho.append(indv1[0])\n",
        "    filho.append(indv1[1])\n",
        "    filhos.append(filho)\n",
        "    filho=[]\n",
        "\n",
        "    filho.append(indv2[0])\n",
        "    filho.append(indv2[1])\n",
        "    filhos.append(filho)\n",
        "    filho=[]\n",
        "  \n",
        "  #print(\"Filhos\")\n",
        "  #print(filhos)\n",
        "  #print(\"\\n\")\n",
        "  return filhos.copy()  "
      ],
      "metadata": {
        "id": "I8bWnjNKnH9w"
      },
      "execution_count": null,
      "outputs": []
    },
    {
      "cell_type": "markdown",
      "source": [
        "#Mutação"
      ],
      "metadata": {
        "id": "-5SSyn34t4qe"
      }
    },
    {
      "cell_type": "code",
      "source": [
        "def mutacao(indv, sigma):\n",
        "  if(random.random()<= taxa_mut):\n",
        "    aux=random.gauss(mu,sigma)\n",
        "    if(aux>=5.12):\n",
        "      aux-= aux-5.12\n",
        "    if(aux<=-5.12):\n",
        "      aux+= (aux+5.12)*-1\n",
        "    #Mutando a primeira parte do cromossomo \n",
        "    indv[0] = indv[0] + aux\n",
        "\n",
        "  if(random.random()<= taxa_mut):\n",
        "    aux=random.gauss(mu,sigma)\n",
        "    if(aux >=5.12):\n",
        "      aux -= aux-5.12\n",
        "    if(aux<=-5.12):\n",
        "      aux += (aux+5.12)*-1\n",
        "    #Mutando a primeira parte do cromossomo  \n",
        "    indv[1] = indv[1] + aux\n",
        "\n",
        "  return indv"
      ],
      "metadata": {
        "id": "BrV-UggUt7fg"
      },
      "execution_count": null,
      "outputs": []
    },
    {
      "cell_type": "markdown",
      "source": [
        "#Sobrevivencia"
      ],
      "metadata": {
        "id": "NoF_FyvHlzQN"
      }
    },
    {
      "cell_type": "code",
      "source": [
        "qntd_melhorpai = 10\n",
        "\n",
        "def sobrevivencia_melhorpai(pop=[]):\n",
        "  melhorpai=[]\n",
        "  for j in range(qntd_melhorpai):\n",
        "    melhorpai.append(pop[0].copy())\n",
        "    for i in range(t_pop):\n",
        "      if(melhorpai[j][2] >= pop[i][2] and pop[i][2] not in [x[2] for x in melhorpai.copy()]):    \n",
        "        melhorpai[j]=pop[i].copy()\n",
        "  return melhorpai.copy()"
      ],
      "metadata": {
        "id": "_QlCJrDUl2my"
      },
      "execution_count": null,
      "outputs": []
    },
    {
      "cell_type": "code",
      "source": [
        "taxa_sobrevivencia = 0.5\n",
        "\n",
        "def sobrevivencia_taxa(pop=[],filhos=[]):\n",
        "  for i in range(t_pop):\n",
        "    pop.append(filhos[i].copy())\n",
        "  \n",
        "  pop.sort(key=lambda x: x[2])\n",
        "\n",
        "  #print(pop)\n",
        "  pop = pop[:len(pop)-t_pop]\n",
        "  #print(pop,\"\\n\")\n",
        "  \n",
        "  return pop.copy()"
      ],
      "metadata": {
        "id": "kQfo_De5o1xU"
      },
      "execution_count": null,
      "outputs": []
    },
    {
      "cell_type": "markdown",
      "source": [
        "#Main"
      ],
      "metadata": {
        "id": "N4ukS_hJuFPY"
      }
    },
    {
      "cell_type": "code",
      "source": [
        "from numpy.core.numeric import True_\n",
        "import random\n",
        "import numpy\n",
        "import math\n",
        "\n",
        "mu = 0.0\n",
        "taxa_mut = 0.5\n",
        "taxa_cros = 0.8\n",
        "t_pop = 100\n",
        "espaco = 5.12\n",
        "\n",
        "def GA(val):\n",
        "  grafico_melhorpai = []\n",
        "  grafico_geracao1X = []\n",
        "  grafico_geracao50X = []\n",
        "  grafico_geracao100X = []\n",
        "  grafico_geracao1Y = []\n",
        "  grafico_geracao50Y = []\n",
        "  grafico_geracao100Y = []\n",
        "  grafico_media = []\n",
        "  pop = []\n",
        "  filhos = []\n",
        "  filho_cros = []\n",
        "  melhorpai = []\n",
        "  melhorpai_geral = [100,100,100]\n",
        "  geracao = 0\n",
        "  sigma = 1\n",
        "  for i in range(t_pop):\n",
        "    pop.append(gera_indviduo())\n",
        "  \n",
        "  while(1>0):\n",
        "    soma = 0\n",
        "    geracao += 1\n",
        "    filhos=[]\n",
        "    sigma = sigma/(geracao/10)\n",
        "    #print(\"%.5f\" %sigma)\n",
        "\n",
        "#AVALIANDO OS INDIVIDUOS DA POPULACAO\n",
        "    for i in range(t_pop):\n",
        "      pop[i] = (avaliador(pop[i].copy())).copy()\n",
        "      soma += pop[i][2]\n",
        "      if(melhorpai_geral[2] >= pop[i][2]):\n",
        "         melhorpai_geral = pop[i].copy()\n",
        "    grafico_media.append(soma/t_pop)\n",
        "    #print(pop[0].copy())\n",
        "\n",
        "#GUARDANDO AS GERACOES\n",
        "    if(geracao == 1):\n",
        "      for i in range(t_pop):\n",
        "        grafico_geracao1X.append(pop[i][0])\n",
        "        grafico_geracao1Y.append(pop[i][1])\n",
        "    else: \n",
        "      if(geracao == 4):\n",
        "        for i in range(t_pop):\n",
        "          grafico_geracao50X.append(pop[i][0])\n",
        "          grafico_geracao50Y.append(pop[i][1])\n",
        "      else: \n",
        "        if(geracao == 8):\n",
        "          for i in range(t_pop):\n",
        "            grafico_geracao100X.append(pop[i][0])\n",
        "            grafico_geracao100Y.append(pop[i][1])\n",
        "\n",
        "#FAZENDO O CROSSOVER \n",
        "    for i in range(0,t_pop,2):\n",
        "      filho_cros = (crossover(torneio(pop),torneio(pop))).copy()\n",
        "      filhos.append(filho_cros[0])\n",
        "      filhos.append(filho_cros[1])\n",
        "    \n",
        "#MUTANDO OS FILHOS\n",
        "    for i in range(t_pop):\n",
        "      filhos[i] = mutacao(filhos[i], sigma)\n",
        "\n",
        "#DECIDINDO QUEM SOBREVIVERÁ\n",
        "  #ESTRATEGIA MELHOR PAIS\n",
        "    if(val == 1):\n",
        "      melhorpai = sobrevivencia_melhorpai(pop.copy())\n",
        "      pop = filhos.copy()\n",
        "      for i in range(len(melhorpai)):  \n",
        "        pop[random.randint(0,t_pop-1)] = melhorpai[i].copy()\n",
        "\n",
        "  #ESTRATEGIA 50% MELHORES\n",
        "    if(val == 2):\n",
        "      for i in range(t_pop):\n",
        "        filhos[i] = (avaliador(filhos[i].copy())).copy()\n",
        "      pop = sobrevivencia_taxa(pop.copy(),filhos.copy())\n",
        "\n",
        "\n",
        "    #print(f'{melhorpai_geral[0]:.7f}',f'{melhorpai_geral[1]:.7f}',f'{melhorpai_geral[2]:.7f}', \"    Geracao:\",geracao)\n",
        "    #if(geracao==3):\n",
        "      #break\n",
        "\n",
        "    grafico_melhorpai.append(melhorpai_geral[2])\n",
        "    #print(melhorpai_geral)\n",
        "    #print(\"%.5f\" % melhorpai_geral[2])\n",
        "    #print(f'{melhorpai_geral[2]:.7f}')\n",
        "    if(melhorpai_geral[2]<=0.0001 or geracao>=100):\n",
        "      break\n",
        "\n",
        "  #plt.plot(range(geracao), grafico_melhorpai, label=\"Melhor pai\")\n",
        "  #plt.plot(range(geracao), grafico_media, label=\"Média\")\n",
        "  #plt.title(\"Convergência em uma das execuções\")\n",
        "  #plt.xlabel('Geração')\n",
        "  #plt.ylabel('Fitness')\n",
        "  #plt.legend()\n",
        "  #plt.figure(figsize=(10,6))\n",
        "\n",
        "  #X = numpy.linspace(-5.12, 5.12, 100)     \n",
        "  #Y = numpy.linspace(-5.12, 5.12, 100)     \n",
        "  #X, Y = numpy.meshgrid(X, Y) \n",
        "\n",
        "  #Z = (X**2 - 10 * numpy.cos(2 * numpy.pi * X)) + \\\n",
        "  #(Y**2 - 10 * numpy.cos(2 * numpy.pi * Y)) + 20\n",
        "\n",
        "  #fig, ax = plt.subplots()\n",
        "  #CS = plt.contour(X, Y, Z, 8, cmap=cm.jet)\n",
        "  #ax.clabel(CS, inline=True, fontsize=10)\n",
        "\n",
        "  \n",
        "  #plt.plot(grafico_geracao1X, grafico_geracao1Y,'ro')\n",
        "  #plt.axis([-5.2, 5.2, -5.2, 5.2])\n",
        "  #plt.show()\n",
        "\n",
        "  #fig, ax = plt.subplots()\n",
        "  #CS = plt.contour(X, Y, Z, 8, cmap=cm.jet)\n",
        "  #ax.clabel(CS, inline=True, fontsize=10)\n",
        "  #plt.plot(grafico_geracao50X, grafico_geracao50Y,'ro')\n",
        "  #plt.axis([-5.2, 5.2, -5.2, 5.2])\n",
        "  #plt.show()\n",
        "\n",
        "  #fig, ax = plt.subplots()\n",
        "  #CS = plt.contour(X, Y, Z, 8, cmap=cm.jet)\n",
        "  #ax.clabel(CS, inline=True, fontsize=10)\n",
        "  #plt.plot(grafico_geracao100X, grafico_geracao100Y,'ro')\n",
        "  #plt.axis([-5.2, 5.2, -5.2, 5.2])\n",
        "  #plt.show()\n",
        "  \n",
        "  #plt.legend()\n",
        "\n",
        "\n",
        "  #print(\"%.6f\" % melhorpai_geral[2])\n",
        "  return melhorpai_geral[2]"
      ],
      "metadata": {
        "id": "j1qhuSMINN8J"
      },
      "execution_count": null,
      "outputs": []
    },
    {
      "cell_type": "code",
      "source": [
        "from matplotlib import RcParams\n",
        "soma = 0\n",
        "vet1 = []\n",
        "vet2 = []  \n",
        "desviopadrao = 0\n",
        "qntd_testes = 30\n",
        "\n",
        "for i  in range(qntd_testes):\n",
        "  vet1.append(GA(1))\n",
        "  soma += vet1[i]\n",
        "for i  in range(qntd_testes):\n",
        "  vet2.append(GA(2))\n",
        "  soma += vet2[i]\n",
        "\n",
        "\n",
        "#print(vet1)\n",
        "\n",
        "\n",
        "plt.figure(figsize=(12,8))\n",
        "plt.boxplot([vet1,vet2])\n",
        "\n",
        "plt.title(\"Variância do resultado de 30 execuções\")\n",
        "plt.xlabel('Experimento')\n",
        "plt.ylabel('Valor obtido')\n",
        "plt.ylim(-0.001,0.05)\n",
        "plt.rcParams['xtick.labelsize'] = 16\n",
        "plt.rcParams['ytick.labelsize'] = 16\n",
        "plt.rcParams['legend.fontsize'] = 16\n",
        "#print(plt.rcParams.keys())\n",
        "#plt.xticks([1, 2], [maiores1[0], maiores2[0]])\n",
        "plt.show()\n",
        "\n",
        "for i  in range(qntd_testes):\n",
        "  vet1[i] = vet1[i] - soma/qntd_testes\n",
        "  desviopadrao += vet1[i] ** 2\n",
        "  desviopadrao = desviopadrao/3\n",
        "  desviopadrao = math.sqrt(desviopadrao)\n",
        "  \n",
        "#print(\"Média: \",soma/qntd_testes,\" Desvio Padrão: \",desviopadrao)  "
      ],
      "metadata": {
        "colab": {
          "base_uri": "https://localhost:8080/",
          "height": 538
        },
        "id": "wai6AHK15UP-",
        "outputId": "d391abbd-8eba-4c7d-ddb0-bf7201ac6d5a"
      },
      "execution_count": null,
      "outputs": [
        {
          "output_type": "display_data",
          "data": {
            "text/plain": [
              "<Figure size 864x576 with 1 Axes>"
            ],
            "image/png": "[encoded data removed]"
          },
          "metadata": {
            "needs_background": "light"
          }
        }
      ]
    },
    {
      "cell_type": "code",
      "source": [
        ""
      ],
      "metadata": {
        "id": "ZqLiRbGqgT14"
      },
      "execution_count": null,
      "outputs": []
    }
  ]
}