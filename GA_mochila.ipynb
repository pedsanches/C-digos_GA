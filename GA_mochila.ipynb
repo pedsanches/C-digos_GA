{
  "nbformat": 4,
  "nbformat_minor": 0,
  "metadata": {
    "colab": {
      "name": "GA_mochila.ipynb",
      "provenance": [],
      "collapsed_sections": [],
      "authorship_tag": "ABX9TyN80/1n0xrT3/dJffXyGD/i",
      "include_colab_link": true
    },
    "kernelspec": {
      "name": "python3",
      "display_name": "Python 3"
    },
    "language_info": {
      "name": "python"
    }
  },
  "cells": [
    {
      "cell_type": "markdown",
      "metadata": {
        "id": "view-in-github",
        "colab_type": "text"
      },
      "source": [
        "<a href=\"https://colab.research.google.com/github/pedsanches/C-digos_GA/blob/main/GA_mochila.ipynb\" target=\"_parent\"><img src=\"https://colab.research.google.com/assets/colab-badge.svg\" alt=\"Open In Colab\"/></a>"
      ]
    },
    {
      "cell_type": "markdown",
      "source": [
        "#Imports\n"
      ],
      "metadata": {
        "id": "uC1POmDf-pB5"
      }
    },
    {
      "cell_type": "code",
      "execution_count": null,
      "metadata": {
        "id": "Y7tnkX2k0BH1"
      },
      "outputs": [],
      "source": [
        "%matplotlib inline\n",
        "import matplotlib.pyplot as plt\n",
        "plt.style.use('seaborn-whitegrid')\n",
        "import numpy as np\n",
        "import random\n",
        "import matplotlib.cm as cm\n",
        "from numpy import loadtxt\n",
        "import re\n",
        "import pandas as pd"
      ]
    },
    {
      "cell_type": "code",
      "source": [
        "ref_arquivo = pd.read_csv('https://raw.githubusercontent.com/pedsanches/IA/main/entrada.txt',sep=\"\\n\",header=None)"
      ],
      "metadata": {
        "id": "dYYQaCXY623g"
      },
      "execution_count": null,
      "outputs": []
    },
    {
      "cell_type": "code",
      "source": [
        "print(ref_arquivo[0])\n"
      ],
      "metadata": {
        "colab": {
          "base_uri": "https://localhost:8080/"
        },
        "id": "v86vrFfT80BA",
        "outputId": "cb6936a0-e734-4b1d-da1d-60295abfb501"
      },
      "execution_count": null,
      "outputs": [
        {
          "output_type": "stream",
          "name": "stdout",
          "text": [
            "0            5000\n",
            "1              35\n",
            "2      (1170,450)\n",
            "3       (340,120)\n",
            "4      (460,1000)\n",
            "5       (900,840)\n",
            "6       (540,970)\n",
            "7       (800,230)\n",
            "8       (810,550)\n",
            "9       (230,880)\n",
            "10      (960,370)\n",
            "11      (390,180)\n",
            "12      (500,140)\n",
            "13     (670,1300)\n",
            "14      (290,630)\n",
            "15    (1280,1140)\n",
            "16    (1010,1260)\n",
            "17      (480,690)\n",
            "18       (90,990)\n",
            "19     (480,1110)\n",
            "20      (750,610)\n",
            "21     (850,1020)\n",
            "22    (1150,1380)\n",
            "23     (1310,750)\n",
            "24     (640,1200)\n",
            "25     (460,1240)\n",
            "26      (380,300)\n",
            "27     (930,1330)\n",
            "28     (1040,580)\n",
            "29      (610,880)\n",
            "30     (1130,350)\n",
            "31       (80,660)\n",
            "32      (470,720)\n",
            "33      (800,910)\n",
            "34     (370,1240)\n",
            "35      (120,210)\n",
            "36     (1120,370)\n",
            "Name: 0, dtype: object\n"
          ]
        }
      ]
    },
    {
      "cell_type": "code",
      "source": [
        "!cat /etc/os-release\n"
      ],
      "metadata": {
        "colab": {
          "base_uri": "https://localhost:8080/"
        },
        "id": "zZxKtgs68XlZ",
        "outputId": "c62e3b23-e6ae-4bd7-ffa2-09643b2bd671"
      },
      "execution_count": null,
      "outputs": [
        {
          "output_type": "stream",
          "name": "stdout",
          "text": [
            "NAME=\"Ubuntu\"\n",
            "VERSION=\"18.04.5 LTS (Bionic Beaver)\"\n",
            "ID=ubuntu\n",
            "ID_LIKE=debian\n",
            "PRETTY_NAME=\"Ubuntu 18.04.5 LTS\"\n",
            "VERSION_ID=\"18.04\"\n",
            "HOME_URL=\"https://www.ubuntu.com/\"\n",
            "SUPPORT_URL=\"https://help.ubuntu.com/\"\n",
            "BUG_REPORT_URL=\"https://bugs.launchpad.net/ubuntu/\"\n",
            "PRIVACY_POLICY_URL=\"https://www.ubuntu.com/legal/terms-and-policies/privacy-policy\"\n",
            "VERSION_CODENAME=bionic\n",
            "UBUNTU_CODENAME=bionic\n"
          ]
        }
      ]
    },
    {
      "cell_type": "markdown",
      "source": [
        "#Lê Arquivo\n"
      ],
      "metadata": {
        "id": "uY-CLCYJ-wzJ"
      }
    },
    {
      "cell_type": "code",
      "source": [
        "def le_arquivo():\n",
        "  #ref_arquivo = open(\"/entrada.txt\",\"r\")\n",
        "  i=0\n",
        "  conteudo_transformado = []\n",
        "  for linha in ref_arquivo[0]:\n",
        "    if(linha == 0 ):\n",
        "      continue\n",
        "    conteudo = linha.split()\n",
        "    conteudo = (re.sub(\"\\(|\\)\",\"\",conteudo[0])).split(\",\")\n",
        "    if(i>=2):\n",
        "      #print(int(conteudo[0]),int(conteudo[1]))\n",
        "      conteudo_transformado.append([int(conteudo[0]),int(conteudo[1]),float(int(conteudo[1])/int(conteudo[0])),i-2])\n",
        "    else:\n",
        "      #print(int(conteudo[0]))\n",
        "      conteudo_transformado.append(int(conteudo[0]))\n",
        "    i+=1\n",
        "  return (conteudo_transformado.copy())"
      ],
      "metadata": {
        "id": "2ECEGzAv-opb"
      },
      "execution_count": null,
      "outputs": []
    },
    {
      "cell_type": "code",
      "source": [
        "custo_beneficio = le_arquivo()\n",
        "print(custo_beneficio)\n",
        "del(custo_beneficio[0:2])\n",
        "custo_beneficio.sort(key=lambda x:x[2],reverse=False)\n",
        "print(custo_beneficio)\n"
      ],
      "metadata": {
        "colab": {
          "base_uri": "https://localhost:8080/"
        },
        "id": "n6Yu3omrUX7T",
        "outputId": "51602c1b-45bf-442f-fde0-45341cc45eee"
      },
      "execution_count": null,
      "outputs": [
        {
          "output_type": "stream",
          "name": "stdout",
          "text": [
            "[5000, 35, [1170, 450, 0.38461538461538464, 0], [340, 120, 0.35294117647058826, 1], [460, 1000, 2.1739130434782608, 2], [900, 840, 0.9333333333333333, 3], [540, 970, 1.7962962962962963, 4], [800, 230, 0.2875, 5], [810, 550, 0.6790123456790124, 6], [230, 880, 3.8260869565217392, 7], [960, 370, 0.3854166666666667, 8], [390, 180, 0.46153846153846156, 9], [500, 140, 0.28, 10], [670, 1300, 1.9402985074626866, 11], [290, 630, 2.1724137931034484, 12], [1280, 1140, 0.890625, 13], [1010, 1260, 1.2475247524752475, 14], [480, 690, 1.4375, 15], [90, 990, 11.0, 16], [480, 1110, 2.3125, 17], [750, 610, 0.8133333333333334, 18], [850, 1020, 1.2, 19], [1150, 1380, 1.2, 20], [1310, 750, 0.5725190839694656, 21], [640, 1200, 1.875, 22], [460, 1240, 2.6956521739130435, 23], [380, 300, 0.7894736842105263, 24], [930, 1330, 1.4301075268817205, 25], [1040, 580, 0.5576923076923077, 26], [610, 880, 1.4426229508196722, 27], [1130, 350, 0.30973451327433627, 28], [80, 660, 8.25, 29], [470, 720, 1.5319148936170213, 30], [800, 910, 1.1375, 31], [370, 1240, 3.3513513513513513, 32], [120, 210, 1.75, 33], [1120, 370, 0.33035714285714285, 34]]\n",
            "[[500, 140, 0.28, 10], [800, 230, 0.2875, 5], [1130, 350, 0.30973451327433627, 28], [1120, 370, 0.33035714285714285, 34], [340, 120, 0.35294117647058826, 1], [1170, 450, 0.38461538461538464, 0], [960, 370, 0.3854166666666667, 8], [390, 180, 0.46153846153846156, 9], [1040, 580, 0.5576923076923077, 26], [1310, 750, 0.5725190839694656, 21], [810, 550, 0.6790123456790124, 6], [380, 300, 0.7894736842105263, 24], [750, 610, 0.8133333333333334, 18], [1280, 1140, 0.890625, 13], [900, 840, 0.9333333333333333, 3], [800, 910, 1.1375, 31], [850, 1020, 1.2, 19], [1150, 1380, 1.2, 20], [1010, 1260, 1.2475247524752475, 14], [930, 1330, 1.4301075268817205, 25], [480, 690, 1.4375, 15], [610, 880, 1.4426229508196722, 27], [470, 720, 1.5319148936170213, 30], [120, 210, 1.75, 33], [540, 970, 1.7962962962962963, 4], [640, 1200, 1.875, 22], [670, 1300, 1.9402985074626866, 11], [290, 630, 2.1724137931034484, 12], [460, 1000, 2.1739130434782608, 2], [480, 1110, 2.3125, 17], [460, 1240, 2.6956521739130435, 23], [370, 1240, 3.3513513513513513, 32], [230, 880, 3.8260869565217392, 7], [80, 660, 8.25, 29], [90, 990, 11.0, 16]]\n"
          ]
        }
      ]
    },
    {
      "cell_type": "markdown",
      "source": [
        "#Normalizador"
      ],
      "metadata": {
        "id": "fpxK81sWqmTs"
      }
    },
    {
      "cell_type": "code",
      "source": [
        "def norm():\n",
        "  peso_tot = 0\n",
        "  valor_tot = 0 \n",
        "  for i in infos_normalizado:\n",
        "    if(type(i) == int):\n",
        "      continue\n",
        "    peso_tot += i[0]\n",
        "    valor_tot += i[1]\n",
        "\n",
        "  for i in infos_normalizado:\n",
        "    if(type(i) == int):\n",
        "      continue\n",
        "    i[0] = float( i[0]/peso_tot )\n",
        "    i[1] = float( i[1]/peso_tot )\n",
        "  \n",
        "infos_normalizado =  le_arquivo()\n",
        "norm()\n",
        "print(infos_normalizado)"
      ],
      "metadata": {
        "colab": {
          "base_uri": "https://localhost:8080/"
        },
        "id": "pVh6pQ6Tqnci",
        "outputId": "7e083d90-0dda-45bd-becf-adf2fc6165d9"
      },
      "execution_count": null,
      "outputs": [
        {
          "output_type": "stream",
          "name": "stdout",
          "text": [
            "[5000, 35, [0.04955527318932656, 0.01905972045743329, 0.38461538461538464, 0], [0.014400677678949597, 0.005082592121982211, 0.35294117647058826, 1], [0.019483269800931808, 0.042354934349851756, 2.1739130434782608, 2], [0.03811944091486658, 0.035578144853875476, 0.9333333333333333, 3], [0.022871664548919948, 0.041084286319356206, 1.7962962962962963, 4], [0.0338839474798814, 0.009741634900465904, 0.2875, 5], [0.03430749682337993, 0.023295213892418468, 0.6790123456790124, 6], [0.009741634900465904, 0.03727234222786955, 3.8260869565217392, 7], [0.04066073697585769, 0.015671325709445152, 0.3854166666666667, 8], [0.016518424396442185, 0.007623888182973317, 0.46153846153846156, 9], [0.021177467174925878, 0.005929690808979246, 0.28, 10], [0.028377806014400677, 0.05506141465480729, 1.9402985074626866, 11], [0.01228293096145701, 0.026683608640406607, 2.1724137931034484, 12], [0.05421431596781025, 0.048284625158831, 0.890625, 13], [0.04277848369335027, 0.053367217280813214, 1.2475247524752475, 14], [0.020330368487928845, 0.029224904701397714, 1.4375, 15], [0.0038119440914866584, 0.04193138500635324, 11.0, 16], [0.020330368487928845, 0.04701397712833545, 2.3125, 17], [0.03176620076238882, 0.02583650995340957, 0.8133333333333334, 18], [0.03600169419737399, 0.043202033036848796, 1.2, 19], [0.04870817450232952, 0.05844980940279543, 1.2, 20], [0.055484963998305804, 0.03176620076238882, 0.5725190839694656, 21], [0.027107157983905124, 0.05082592121982211, 1.875, 22], [0.019483269800931808, 0.05252011859381618, 2.6956521739130435, 23], [0.01609487505294367, 0.012706480304955527, 0.7894736842105263, 24], [0.03939008894536213, 0.05633206268530284, 1.4301075268817205, 25], [0.04404913172384583, 0.02456586192291402, 0.5576923076923077, 26], [0.02583650995340957, 0.03727234222786955, 1.4426229508196722, 27], [0.047861075815332485, 0.014824227022448115, 0.30973451327433627, 28], [0.0033883947479881405, 0.02795425667090216, 8.25, 29], [0.019906819144430325, 0.030495552731893267, 1.5319148936170213, 30], [0.0338839474798814, 0.0385429902583651, 1.1375, 31], [0.015671325709445152, 0.05252011859381618, 3.3513513513513513, 32], [0.005082592121982211, 0.008894536213468869, 1.75, 33], [0.04743752647183397, 0.015671325709445152, 0.33035714285714285, 34]]\n"
          ]
        }
      ]
    },
    {
      "cell_type": "markdown",
      "source": [
        "#Calcula peso"
      ],
      "metadata": {
        "id": "H5VT8GbrOYtq"
      }
    },
    {
      "cell_type": "code",
      "source": [
        "def calc_peso(indv):\n",
        "  somapesototal = 0\n",
        "  for i in range(len(indv)-1):\n",
        "    if(i >= len(infos)-1 or i> tam_cromossomo-1):\n",
        "      continue\n",
        "    somapesototal += indv[i]*infos[i+2][0]\n",
        "  return somapesototal"
      ],
      "metadata": {
        "id": "DukBXr_nOYRj"
      },
      "execution_count": null,
      "outputs": []
    },
    {
      "cell_type": "markdown",
      "source": [
        "#Correção"
      ],
      "metadata": {
        "id": "AqGW0TvYTwLs"
      }
    },
    {
      "cell_type": "code",
      "source": [
        "def correcao(indv):\n",
        "  for i in custo_beneficio:\n",
        "    if(calc_peso(indv) <= 5000):\n",
        "       break\n",
        "    #print(len(indv))\n",
        "    indv[i[3]] = 0\n",
        "  return indv.copy()"
      ],
      "metadata": {
        "id": "HeVIBy0OTzXy"
      },
      "execution_count": null,
      "outputs": []
    },
    {
      "cell_type": "markdown",
      "source": [
        "#Penalidade Proporcional"
      ],
      "metadata": {
        "id": "ZXJ9ucRakkY7"
      }
    },
    {
      "cell_type": "code",
      "source": [
        "def penalidade_proporcional(indv):\n",
        "  indv[tam_cromossomo] = 0\n",
        "  indv[tam_cromossomo] += infos[0] - calc_peso(indv)\n",
        "  return indv.copy()"
      ],
      "metadata": {
        "id": "3mVcfKU5knT5"
      },
      "execution_count": null,
      "outputs": []
    },
    {
      "cell_type": "markdown",
      "source": [
        "#Avalia"
      ],
      "metadata": {
        "id": "u3iPU3CyR1KU"
      }
    },
    {
      "cell_type": "code",
      "source": [
        "def avaliador(aux,versao):\n",
        "  somapesototal  = calc_peso(aux)\n",
        "  nota = 0\n",
        "\n",
        "\n",
        "  #print(somapesototal)\n",
        "  #if(somapesototal == 0):\n",
        "    #print(aux)\n",
        "  if(versao == 2):\n",
        "    aux = correcao(aux)\n",
        "\n",
        "  if(calc_peso(aux) <= infos[0]):\n",
        "    for i in range(tam_cromossomo):\n",
        "      nota += aux[i]*infos_normalizado[i+2][1]\n",
        "  else:\n",
        "    for i in range(tam_cromossomo):\n",
        "      if(versao == 3):\n",
        "        nota -= aux[i]*infos_normalizado[i+2][0]\n",
        "      else:  \n",
        "        nota = 0\n",
        "  #if(calc_peso(aux) > infos[0]):\n",
        "    #nota = infos[0] - calc_peso(aux)\n",
        "    \n",
        "  #print(nota)\n",
        "  \n",
        "  if(len(aux) > tam_cromossomo):\n",
        "    aux[tam_cromossomo] = nota\n",
        "    return aux.copy()\n",
        "  else:\n",
        "    aux.append(nota)\n",
        "    return aux.copy()\n"
      ],
      "metadata": {
        "id": "RQgWJSAXR09N"
      },
      "execution_count": null,
      "outputs": []
    },
    {
      "cell_type": "markdown",
      "source": [
        "#Conta Itens"
      ],
      "metadata": {
        "id": "EkYOuWy4vG_z"
      }
    },
    {
      "cell_type": "code",
      "source": [
        "def conta_itens(indv):\n",
        "  num = 0\n",
        "  for i in indv:\n",
        "    if(i == 1 ):\n",
        "      num += 1\n",
        "  return num"
      ],
      "metadata": {
        "id": "jBnozRf0vIp7"
      },
      "execution_count": null,
      "outputs": []
    },
    {
      "cell_type": "markdown",
      "source": [
        "#Torneio"
      ],
      "metadata": {
        "id": "yjCDDYcCTRxq"
      }
    },
    {
      "cell_type": "code",
      "source": [
        "def torneio(pop):\n",
        "  num1 = random.randint(0,tam_pop-1)\n",
        "  num2 = random.randint(0,tam_pop-1)\n",
        "\n",
        "  if(pop[num1][tam_cromossomo] > pop[num2][tam_cromossomo]):\n",
        "    return pop[num1].copy()\n",
        "\n",
        "  elif(pop[num2][tam_cromossomo] > pop[num1][tam_cromossomo]):\n",
        "    return pop[num2].copy()\n",
        "\n",
        "  else:\n",
        "    if(conta_itens(pop[num1]) < conta_itens(pop[num2])):\n",
        "      return pop[num1].copy()\n",
        "\n",
        "    else:\n",
        "      return pop[num2].copy()"
      ],
      "metadata": {
        "id": "pg_SukjATVz5"
      },
      "execution_count": null,
      "outputs": []
    },
    {
      "cell_type": "markdown",
      "source": [
        "#Gera Popução"
      ],
      "metadata": {
        "id": "-AqCIUH_Su2l"
      }
    },
    {
      "cell_type": "code",
      "source": [
        "def gera_pop():\n",
        "  cromossomo = []\n",
        "  for i in range(tam_cromossomo):\n",
        "    cromossomo.append(random.randint(0, 1))\n",
        "  return cromossomo.copy()"
      ],
      "metadata": {
        "id": "Loh3r3vhSvKs"
      },
      "execution_count": null,
      "outputs": []
    },
    {
      "cell_type": "markdown",
      "source": [
        "#Mutação"
      ],
      "metadata": {
        "id": "zVIcfMO7Bg4y"
      }
    },
    {
      "cell_type": "code",
      "source": [
        "def mutacao(aux):\n",
        "  for i in range(tam_cromossomo):\n",
        "    if(random.random() <= taxa_mut):\n",
        "      if(aux[i] == 1): \n",
        "        aux[i] = 0\n",
        "      else:\n",
        "        aux[i] = 1\n",
        "  return aux.copy()    "
      ],
      "metadata": {
        "id": "9DV3nqwYBhDo"
      },
      "execution_count": null,
      "outputs": []
    },
    {
      "cell_type": "markdown",
      "source": [
        "#Crossover"
      ],
      "metadata": {
        "id": "tEljONh-UDOF"
      }
    },
    {
      "cell_type": "code",
      "source": [
        "def crossover(pai1 = [], pai2 = []):\n",
        "  filho1 = []\n",
        "  filho2 = []\n",
        "  filhos = []\n",
        "  ponto_corte = random.randint(1,tam_cromossomo-2)\n",
        "\n",
        "  if(random.random()<= taxa_cros):\n",
        "    for i in range(ponto_corte):\n",
        "      filho1.append(pai1[i])\n",
        "      filho2.append(pai2[i])\n",
        "\n",
        "    #print(len(filho1))\n",
        "\n",
        "    for i in range(tam_cromossomo-ponto_corte):\n",
        "      i += ponto_corte\n",
        "      filho1.append(pai2[i])\n",
        "      filho2.append(pai1[i])\n",
        "    filhos.append(filho1.copy())\n",
        "    filhos.append(filho2.copy())\n",
        "    \n",
        "    #print(i)\n",
        "\n",
        "  else:\n",
        "    filhos.append(pai1.copy())\n",
        "    filhos.append(pai2.copy())\n",
        "\n",
        "  filhos[0] = mutacao(filhos[0]).copy()\n",
        "  filhos[1] = mutacao(filhos[1]).copy()\n",
        "\n",
        "  return filhos.copy()"
      ],
      "metadata": {
        "id": "d9cWQUjvUDXT"
      },
      "execution_count": null,
      "outputs": []
    },
    {
      "cell_type": "markdown",
      "source": [
        "#50% sobreviventes\n"
      ],
      "metadata": {
        "id": "lPgJrRgb1aej"
      }
    },
    {
      "cell_type": "code",
      "source": [
        "def sobrevivencia_taxa(pop=[],filhos=[]):\n",
        "  for i in range(tam_pop):\n",
        "    pop.append(filhos[i].copy())\n",
        "  \n",
        "  pop.sort(key=lambda x: x[tam_cromossomo], reverse = True)\n",
        "\n",
        "  pop = pop[:(len(pop)-tam_pop)]\n",
        "  #print(pop,\"\\n\")\n",
        "  \n",
        "  return pop.copy()"
      ],
      "metadata": {
        "id": "X7qv1SkI1e7z"
      },
      "execution_count": null,
      "outputs": []
    },
    {
      "cell_type": "markdown",
      "source": [
        "#Calc peso total"
      ],
      "metadata": {
        "id": "AWfRbrhyvSkI"
      }
    },
    {
      "cell_type": "code",
      "source": [
        "def calc_peso_total():\n",
        "  tot = 0\n",
        "  for i in infos:\n",
        "    if(type(i) == int):\n",
        "      continue\n",
        "    tot += infos\n",
        "  \n",
        "  return tot"
      ],
      "metadata": {
        "id": "cS5jp9LPvT8u"
      },
      "execution_count": null,
      "outputs": []
    },
    {
      "cell_type": "markdown",
      "source": [
        "#Main"
      ],
      "metadata": {
        "id": "5inenBz2QRTc"
      }
    },
    {
      "cell_type": "code",
      "source": [
        "infos = (le_arquivo()).copy()\n",
        "tam_cromossomo = infos[1]\n",
        "peso_max = infos[0]\n",
        "taxa_cros = 0.7\n",
        "taxa_mut = 2/tam_cromossomo\n",
        "tam_pop = 100\n",
        "qntd_geracoes = 12\n",
        "\n",
        "def main(versao):\n",
        "  nota_melhorespais = []\n",
        "  geracao = 0\n",
        "  pop = []\n",
        "  filhos = []\n",
        "  filhos_cros = []\n",
        "  melhor_paigeral = []\n",
        "  melhor_pai=[]\n",
        "  soma_notas = []\n",
        "  medias = []\n",
        "  melhorespaisapenas = []\n",
        "\n",
        "  for i in range(tam_pop):\n",
        "    pop.append(gera_pop().copy())\n",
        "\n",
        "  while(1>0):\n",
        "    geracao += 1\n",
        "    soma_notas = 0\n",
        "\n",
        "    if(geracao == 1):\n",
        "      melhor_paigeral = pop[i].copy()\n",
        "      melhor_paigeral.append(-99999)\n",
        "      melhor_pai = pop[i].copy()\n",
        "      melhor_paigeral.append(-99999)\n",
        "\n",
        "    for i in range(tam_pop):\n",
        "      pop[i] = avaliador(pop[i],versao).copy()\n",
        "      soma_notas += pop[i][35]\n",
        "      if(i == 0):\n",
        "        melhor_pai = pop[i].copy()\n",
        "        if(melhor_paigeral[tam_cromossomo] < melhor_pai[tam_cromossomo]):\n",
        "            #print(\"a\")\n",
        "            melhor_paigeral = melhor_pai.copy()\n",
        "            melhor_paigeral.append(geracao)\n",
        "      else:\n",
        "        #print(melhor_pai[tam_cromossomo],\",\",pop[i][tam_cromossomo])\n",
        "        if(melhor_pai[tam_cromossomo] < pop[i][tam_cromossomo]):\n",
        "          melhor_pai = pop[i].copy()\n",
        "          if(melhor_paigeral[tam_cromossomo] < melhor_pai[tam_cromossomo]):\n",
        "            #print(\"a\")\n",
        "            melhor_paigeral = melhor_pai.copy()\n",
        "            melhor_paigeral.append(geracao)\n",
        "    \n",
        "    #print(melhor_pai[tam_cromossomo])\n",
        "\n",
        "    #if(len(melhor_paigeral)>36):\n",
        "      #print(pop)\n",
        "      #break\n",
        "    #print(len(pop[0]),pop[0])    \n",
        "\n",
        "    for i in range(0,tam_pop,2):\n",
        "      filhos += (crossover(torneio(pop).copy(),torneio(pop).copy()))\n",
        "\n",
        "    #Sobrevivendo apenas o melhor pai\n",
        "    #pop = filhos.copy()\n",
        "    #filhos = []\n",
        "    #pop[random.randint(0,tam_pop-1)] = melhor_pai.copy()\n",
        "    \n",
        "    #Sobrevivendo 50% melhores\n",
        "    for i in range(tam_pop):\n",
        "      filhos[i] = avaliador(filhos[i],versao).copy()\n",
        "    pop = sobrevivencia_taxa(pop.copy(),filhos.copy()).copy()\n",
        "    filhos = []\n",
        "\n",
        "    #print(melhor_paigeral[35])\n",
        "    nota_melhorespais.append(melhor_paigeral[35])\n",
        "    melhorespaisapenas.append(melhor_paigeral)\n",
        "    medias.append(soma_notas/tam_pop)\n",
        "    melhor_pai = []\n",
        "\n",
        "    if(geracao == qntd_geracoes):\n",
        "      break\n",
        "\n",
        "  peso_total=0\n",
        "  valor_total=0\n",
        "  #print(peso_total, valor_total)\n",
        "\n",
        "  #plt.title('Melhores Pais')\n",
        "  #plt.plot(range(qntd_geracoes), nota_melhorespais)\n",
        "  #plt.show()\n",
        "\n",
        "  #plt.title('Medias')\n",
        "  #plt.plot(range(qntd_geracoes), medias)\n",
        "  #plt.show()\n",
        "\n",
        "  #print(melhor_paigeral[tam_cromossomo+1])\n",
        "  #print(nota_melhorespais)\n",
        "  return([nota_melhorespais.copy(),melhor_paigeral[tam_cromossomo+1],medias.copy(),melhorespaisapenas.copy()])"
      ],
      "metadata": {
        "id": "G9Gqv68zCHY1"
      },
      "execution_count": null,
      "outputs": []
    },
    {
      "cell_type": "markdown",
      "source": [
        "#Teste"
      ],
      "metadata": {
        "id": "VkrA-QVii6sy"
      }
    },
    {
      "cell_type": "code",
      "source": [
        "def teste():\n",
        "  qntd_testes = 30\n",
        "  valor_total = peso_total = nota_total= 0  \n",
        "  media = 0\n",
        "  box = []\n",
        "  box_t = []\n",
        "  somatotal_notas = 0\n",
        "  for j in range(3):\n",
        "    for i in range(qntd_testes):\n",
        "      melhor_paigeral = main(j+1).copy()\n",
        "        #peso_total += melhor_paigeral[i]*infos[i+2][0]\n",
        "        #valor_total += melhor_paigeral[i]*infos[i+2][1]\n",
        "      #print(melhor_paigeral[3][melhor_paigeral[1]-1])\n",
        "      #print(\"Fitness: \",melhor_paigeral[0][melhor_paigeral[1]-1],\" Geração:\",melhor_paigeral[1], \" Peso:\",calc_peso(melhor_paigeral[3][melhor_paigeral[1]-1]) )\n",
        "    \n",
        "      #print(len(melhor_paigeral))\n",
        "      #print(len(melhor_paigeral[2]),len(melhor_paigeral[0]))\n",
        "      for i in range(len(melhor_paigeral[0])-melhor_paigeral[1]):\n",
        "        del(melhor_paigeral[0][qntd_geracoes-1-i])\n",
        "        del(melhor_paigeral[2][qntd_geracoes-1-i])\n",
        "      box.append(melhor_paigeral[0][melhor_paigeral[1]-1])\n",
        "      #plt.title('Convergência em uma das execuções')\n",
        "      #plt.plot(range(melhor_paigeral[1]), melhor_paigeral[0], label = 'Melhores Pais')\n",
        "      #plt.plot(range(melhor_paigeral[1]), melhor_paigeral[2], label = 'Média')\n",
        "      #plt.legend()\n",
        "      #plt.xlabel(\"Gerações\")\n",
        "      #plt.ylabel(\"Avaliação\")\n",
        "      #plt.show()\n",
        "      #plt.boxplot(melhor_paigeral[0])\n",
        "      #plt.show() \n",
        "      #nota_total += melhor_paigeral[35]\n",
        "    box_t.append(box)\n",
        "    box = []\n",
        "  #print(\"Media Valor final:\",valor_total/qntd_testes,\" Peso final:\", peso_total/qntd_testes)\n",
        " \n",
        "  plt.figure(figsize=(12,8))\n",
        "  plt.boxplot(box_t)\n",
        "  plt.title('Variancia no fitness do melhor indivíduo encontrado em 30 execuções')\n",
        "  plt.xlabel(\"Experimento\")\n",
        "  plt.ylabel(\"Avaliação\")\n",
        "  plt.rcParams['legend.fontsize'] = 16\n",
        "  plt.rcParams['xtick.labelsize'] = 16\n",
        "  plt.rcParams['ytick.labelsize'] = 16\n",
        "\n",
        "  \n",
        "  plt.show()\n",
        "  print(plt.rcParams.keys())\n",
        "teste()"
      ],
      "metadata": {
        "colab": {
          "base_uri": "https://localhost:8080/",
          "height": 1000
        },
        "id": "onCWfzEwi64h",
        "outputId": "8bd3bdd0-0f3f-49af-c54f-560c437e5c13"
      },
      "execution_count": null,
      "outputs": [
        {
          "output_type": "display_data",
          "data": {
            "text/plain": [
              "<Figure size 864x576 with 1 Axes>"
            ],
            "image/png": "[encoded data removed]"
          },
          "metadata": {
            "needs_background": "light"
          }
        },
        {
          "output_type": "stream",
          "name": "stdout",
          "text": [
            "KeysView(RcParams({'_internal.classic_mode': False,\n",
            "          'agg.path.chunksize': 0,\n",
            "          'animation.avconv_args': [],\n",
            "          'animation.avconv_path': 'avconv',\n",
            "          'animation.bitrate': -1,\n",
            "          'animation.codec': 'h264',\n",
            "          'animation.convert_args': [],\n",
            "          'animation.convert_path': 'convert',\n",
            "          'animation.embed_limit': 20.0,\n",
            "          'animation.ffmpeg_args': [],\n",
            "          'animation.ffmpeg_path': 'ffmpeg',\n",
            "          'animation.frame_format': 'png',\n",
            "          'animation.html': 'none',\n",
            "          'animation.html_args': [],\n",
            "          'animation.writer': 'ffmpeg',\n",
            "          'axes.autolimit_mode': 'data',\n",
            "          'axes.axisbelow': True,\n",
            "          'axes.edgecolor': '.8',\n",
            "          'axes.facecolor': 'white',\n",
            "          'axes.formatter.limits': [-5, 6],\n",
            "          'axes.formatter.min_exponent': 0,\n",
            "          'axes.formatter.offset_threshold': 4,\n",
            "          'axes.formatter.use_locale': False,\n",
            "          'axes.formatter.use_mathtext': False,\n",
            "          'axes.formatter.useoffset': True,\n",
            "          'axes.grid': True,\n",
            "          'axes.grid.axis': 'both',\n",
            "          'axes.grid.which': 'major',\n",
            "          'axes.labelcolor': '.15',\n",
            "          'axes.labelpad': 4.0,\n",
            "          'axes.labelsize': 'medium',\n",
            "          'axes.labelweight': 'normal',\n",
            "          'axes.linewidth': 1.0,\n",
            "          'axes.prop_cycle': cycler('color', ['#1f77b4', '#ff7f0e', '#2ca02c', '#d62728', '#9467bd', '#8c564b', '#e377c2', '#7f7f7f', '#bcbd22', '#17becf']),\n",
            "          'axes.spines.bottom': True,\n",
            "          'axes.spines.left': True,\n",
            "          'axes.spines.right': True,\n",
            "          'axes.spines.top': True,\n",
            "          'axes.titlecolor': 'auto',\n",
            "          'axes.titlelocation': 'center',\n",
            "          'axes.titlepad': 6.0,\n",
            "          'axes.titlesize': 'large',\n",
            "          'axes.titleweight': 'normal',\n",
            "          'axes.unicode_minus': True,\n",
            "          'axes.xmargin': 0.05,\n",
            "          'axes.ymargin': 0.05,\n",
            "          'axes3d.grid': True,\n",
            "          'backend': 'module://ipykernel.pylab.backend_inline',\n",
            "          'backend_fallback': True,\n",
            "          'boxplot.bootstrap': None,\n",
            "          'boxplot.boxprops.color': 'black',\n",
            "          'boxplot.boxprops.linestyle': '-',\n",
            "          'boxplot.boxprops.linewidth': 1.0,\n",
            "          'boxplot.capprops.color': 'black',\n",
            "          'boxplot.capprops.linestyle': '-',\n",
            "          'boxplot.capprops.linewidth': 1.0,\n",
            "          'boxplot.flierprops.color': 'black',\n",
            "          'boxplot.flierprops.linestyle': 'none',\n",
            "          'boxplot.flierprops.linewidth': 1.0,\n",
            "          'boxplot.flierprops.marker': 'o',\n",
            "          'boxplot.flierprops.markeredgecolor': 'black',\n",
            "          'boxplot.flierprops.markeredgewidth': 1.0,\n",
            "          'boxplot.flierprops.markerfacecolor': 'none',\n",
            "          'boxplot.flierprops.markersize': 6.0,\n",
            "          'boxplot.meanline': False,\n",
            "          'boxplot.meanprops.color': 'C2',\n",
            "          'boxplot.meanprops.linestyle': '--',\n",
            "          'boxplot.meanprops.linewidth': 1.0,\n",
            "          'boxplot.meanprops.marker': '^',\n",
            "          'boxplot.meanprops.markeredgecolor': 'C2',\n",
            "          'boxplot.meanprops.markerfacecolor': 'C2',\n",
            "          'boxplot.meanprops.markersize': 6.0,\n",
            "          'boxplot.medianprops.color': 'C1',\n",
            "          'boxplot.medianprops.linestyle': '-',\n",
            "          'boxplot.medianprops.linewidth': 1.0,\n",
            "          'boxplot.notch': False,\n",
            "          'boxplot.patchartist': False,\n",
            "          'boxplot.showbox': True,\n",
            "          'boxplot.showcaps': True,\n",
            "          'boxplot.showfliers': True,\n",
            "          'boxplot.showmeans': False,\n",
            "          'boxplot.vertical': True,\n",
            "          'boxplot.whiskerprops.color': 'black',\n",
            "          'boxplot.whiskerprops.linestyle': '-',\n",
            "          'boxplot.whiskerprops.linewidth': 1.0,\n",
            "          'boxplot.whiskers': 1.5,\n",
            "          'contour.corner_mask': True,\n",
            "          'contour.negative_linestyle': 'dashed',\n",
            "          'datapath': '/usr/local/lib/python3.7/dist-packages/matplotlib/mpl-data',\n",
            "          'date.autoformatter.day': '%Y-%m-%d',\n",
            "          'date.autoformatter.hour': '%m-%d %H',\n",
            "          'date.autoformatter.microsecond': '%M:%S.%f',\n",
            "          'date.autoformatter.minute': '%d %H:%M',\n",
            "          'date.autoformatter.month': '%Y-%m',\n",
            "          'date.autoformatter.second': '%H:%M:%S',\n",
            "          'date.autoformatter.year': '%Y',\n",
            "          'docstring.hardcopy': False,\n",
            "          'errorbar.capsize': 0.0,\n",
            "          'figure.autolayout': False,\n",
            "          'figure.constrained_layout.h_pad': 0.04167,\n",
            "          'figure.constrained_layout.hspace': 0.02,\n",
            "          'figure.constrained_layout.use': False,\n",
            "          'figure.constrained_layout.w_pad': 0.04167,\n",
            "          'figure.constrained_layout.wspace': 0.02,\n",
            "          'figure.dpi': 72.0,\n",
            "          'figure.edgecolor': (1, 1, 1, 0),\n",
            "          'figure.facecolor': (1, 1, 1, 0),\n",
            "          'figure.figsize': [6.0, 4.0],\n",
            "          'figure.frameon': True,\n",
            "          'figure.max_open_warning': 20,\n",
            "          'figure.subplot.bottom': 0.125,\n",
            "          'figure.subplot.hspace': 0.2,\n",
            "          'figure.subplot.left': 0.125,\n",
            "          'figure.subplot.right': 0.9,\n",
            "          'figure.subplot.top': 0.88,\n",
            "          'figure.subplot.wspace': 0.2,\n",
            "          'figure.titlesize': 'large',\n",
            "          'figure.titleweight': 'normal',\n",
            "          'font.cursive': ['Apple Chancery',\n",
            "                           'Textile',\n",
            "                           'Zapf Chancery',\n",
            "                           'Sand',\n",
            "                           'Script MT',\n",
            "                           'Felipa',\n",
            "                           'cursive'],\n",
            "          'font.family': ['sans-serif'],\n",
            "          'font.fantasy': ['Comic Neue',\n",
            "                           'Comic Sans MS',\n",
            "                           'Chicago',\n",
            "                           'Charcoal',\n",
            "                           'Impact',\n",
            "                           'Western',\n",
            "                           'Humor Sans',\n",
            "                           'xkcd',\n",
            "                           'fantasy'],\n",
            "          'font.monospace': ['DejaVu Sans Mono',\n",
            "                             'Bitstream Vera Sans Mono',\n",
            "                             'Computer Modern Typewriter',\n",
            "                             'Andale Mono',\n",
            "                             'Nimbus Mono L',\n",
            "                             'Courier New',\n",
            "                             'Courier',\n",
            "                             'Fixed',\n",
            "                             'Terminal',\n",
            "                             'monospace'],\n",
            "          'font.sans-serif': ['Arial',\n",
            "                              'Liberation Sans',\n",
            "                              'DejaVu Sans',\n",
            "                              'Bitstream Vera Sans',\n",
            "                              'sans-serif'],\n",
            "          'font.serif': ['DejaVu Serif',\n",
            "                         'Bitstream Vera Serif',\n",
            "                         'Computer Modern Roman',\n",
            "                         'New Century Schoolbook',\n",
            "                         'Century Schoolbook L',\n",
            "                         'Utopia',\n",
            "                         'ITC Bookman',\n",
            "                         'Bookman',\n",
            "                         'Nimbus Roman No9 L',\n",
            "                         'Times New Roman',\n",
            "                         'Times',\n",
            "                         'Palatino',\n",
            "                         'Charter',\n",
            "                         'serif'],\n",
            "          'font.size': 16.0,\n",
            "          'font.stretch': 'normal',\n",
            "          'font.style': 'normal',\n",
            "          'font.variant': 'normal',\n",
            "          'font.weight': 'normal',\n",
            "          'grid.alpha': 1.0,\n",
            "          'grid.color': '.8',\n",
            "          'grid.linestyle': '-',\n",
            "          'grid.linewidth': 0.8,\n",
            "          'hatch.color': 'black',\n",
            "          'hatch.linewidth': 1.0,\n",
            "          'hist.bins': 10,\n",
            "          'image.aspect': 'equal',\n",
            "          'image.cmap': 'Greys',\n",
            "          'image.composite_image': True,\n",
            "          'image.interpolation': 'antialiased',\n",
            "          'image.lut': 256,\n",
            "          'image.origin': 'upper',\n",
            "          'image.resample': True,\n",
            "          'interactive': True,\n",
            "          'keymap.all_axes': ['a'],\n",
            "          'keymap.back': ['left', 'c', 'backspace', 'MouseButton.BACK'],\n",
            "          'keymap.copy': ['ctrl+c', 'cmd+c'],\n",
            "          'keymap.forward': ['right', 'v', 'MouseButton.FORWARD'],\n",
            "          'keymap.fullscreen': ['f', 'ctrl+f'],\n",
            "          'keymap.grid': ['g'],\n",
            "          'keymap.grid_minor': ['G'],\n",
            "          'keymap.help': ['f1'],\n",
            "          'keymap.home': ['h', 'r', 'home'],\n",
            "          'keymap.pan': ['p'],\n",
            "          'keymap.quit': ['ctrl+w', 'cmd+w', 'q'],\n",
            "          'keymap.quit_all': ['W', 'cmd+W', 'Q'],\n",
            "          'keymap.save': ['s', 'ctrl+s'],\n",
            "          'keymap.xscale': ['k', 'L'],\n",
            "          'keymap.yscale': ['l'],\n",
            "          'keymap.zoom': ['o'],\n",
            "          'legend.borderaxespad': 0.5,\n",
            "          'legend.borderpad': 0.4,\n",
            "          'legend.columnspacing': 2.0,\n",
            "          'legend.edgecolor': '0.8',\n",
            "          'legend.facecolor': 'inherit',\n",
            "          'legend.fancybox': True,\n",
            "          'legend.fontsize': 16.0,\n",
            "          'legend.framealpha': 0.8,\n",
            "          'legend.frameon': False,\n",
            "          'legend.handleheight': 0.7,\n",
            "          'legend.handlelength': 2.0,\n",
            "          'legend.handletextpad': 0.8,\n",
            "          'legend.labelspacing': 0.5,\n",
            "          'legend.loc': 'best',\n",
            "          'legend.markerscale': 1.0,\n",
            "          'legend.numpoints': 1,\n",
            "          'legend.scatterpoints': 1,\n",
            "          'legend.shadow': False,\n",
            "          'legend.title_fontsize': 16.0,\n",
            "          'lines.antialiased': True,\n",
            "          'lines.color': 'C0',\n",
            "          'lines.dash_capstyle': 'butt',\n",
            "          'lines.dash_joinstyle': 'round',\n",
            "          'lines.dashdot_pattern': [6.4, 1.6, 1.0, 1.6],\n",
            "          'lines.dashed_pattern': [3.7, 1.6],\n",
            "          'lines.dotted_pattern': [1.0, 1.65],\n",
            "          'lines.linestyle': '-',\n",
            "          'lines.linewidth': 1.5,\n",
            "          'lines.marker': 'None',\n",
            "          'lines.markeredgecolor': 'auto',\n",
            "          'lines.markeredgewidth': 1.0,\n",
            "          'lines.markerfacecolor': 'auto',\n",
            "          'lines.markersize': 6.0,\n",
            "          'lines.scale_dashes': True,\n",
            "          'lines.solid_capstyle': 'round',\n",
            "          'lines.solid_joinstyle': 'round',\n",
            "          'markers.fillstyle': 'full',\n",
            "          'mathtext.bf': 'sans:bold',\n",
            "          'mathtext.cal': 'cursive',\n",
            "          'mathtext.default': 'it',\n",
            "          'mathtext.fallback_to_cm': True,\n",
            "          'mathtext.fontset': 'dejavusans',\n",
            "          'mathtext.it': 'sans:italic',\n",
            "          'mathtext.rm': 'sans',\n",
            "          'mathtext.sf': 'sans',\n",
            "          'mathtext.tt': 'monospace',\n",
            "          'mpl_toolkits.legacy_colorbar': True,\n",
            "          'patch.antialiased': True,\n",
            "          'patch.edgecolor': 'black',\n",
            "          'patch.facecolor': 'C0',\n",
            "          'patch.force_edgecolor': False,\n",
            "          'patch.linewidth': 1.0,\n",
            "          'path.effects': [],\n",
            "          'path.simplify': True,\n",
            "          'path.simplify_threshold': 0.1111111111111111,\n",
            "          'path.sketch': None,\n",
            "          'path.snap': True,\n",
            "          'pdf.compression': 6,\n",
            "          'pdf.fonttype': 3,\n",
            "          'pdf.inheritcolor': False,\n",
            "          'pdf.use14corefonts': False,\n",
            "          'pgf.preamble': '',\n",
            "          'pgf.rcfonts': True,\n",
            "          'pgf.texsystem': 'xelatex',\n",
            "          'polaraxes.grid': True,\n",
            "          'ps.distiller.res': 6000,\n",
            "          'ps.fonttype': 3,\n",
            "          'ps.papersize': 'letter',\n",
            "          'ps.useafm': False,\n",
            "          'ps.usedistiller': None,\n",
            "          'savefig.bbox': None,\n",
            "          'savefig.directory': '~',\n",
            "          'savefig.dpi': 'figure',\n",
            "          'savefig.edgecolor': 'white',\n",
            "          'savefig.facecolor': 'white',\n",
            "          'savefig.format': 'png',\n",
            "          'savefig.frameon': True,\n",
            "          'savefig.jpeg_quality': 95,\n",
            "          'savefig.orientation': 'portrait',\n",
            "          'savefig.pad_inches': 0.1,\n",
            "          'savefig.transparent': False,\n",
            "          'scatter.edgecolors': 'face',\n",
            "          'scatter.marker': 'o',\n",
            "          'svg.fonttype': 'path',\n",
            "          'svg.hashsalt': None,\n",
            "          'svg.image_inline': True,\n",
            "          'text.antialiased': True,\n",
            "          'text.color': '.15',\n",
            "          'text.hinting': 'auto',\n",
            "          'text.hinting_factor': 8,\n",
            "          'text.kerning_factor': 0,\n",
            "          'text.latex.preamble': '',\n",
            "          'text.latex.preview': False,\n",
            "          'text.latex.unicode': True,\n",
            "          'text.usetex': False,\n",
            "          'timezone': 'UTC',\n",
            "          'tk.window_focus': False,\n",
            "          'toolbar': 'toolbar2',\n",
            "          'verbose.fileo': 'sys.stdout',\n",
            "          'verbose.level': 'silent',\n",
            "          'webagg.address': '127.0.0.1',\n",
            "          'webagg.open_in_browser': True,\n",
            "          'webagg.port': 8988,\n",
            "          'webagg.port_retries': 50,\n",
            "          'xtick.alignment': 'center',\n",
            "          'xtick.bottom': True,\n",
            "          'xtick.color': '.15',\n",
            "          'xtick.direction': 'out',\n",
            "          'xtick.labelbottom': True,\n",
            "          'xtick.labelsize': 16.0,\n",
            "          'xtick.labeltop': False,\n",
            "          'xtick.major.bottom': True,\n",
            "          'xtick.major.pad': 3.5,\n",
            "          'xtick.major.size': 0.0,\n",
            "          'xtick.major.top': True,\n",
            "          'xtick.major.width': 0.8,\n",
            "          'xtick.minor.bottom': True,\n",
            "          'xtick.minor.pad': 3.4,\n",
            "          'xtick.minor.size': 0.0,\n",
            "          'xtick.minor.top': True,\n",
            "          'xtick.minor.visible': False,\n",
            "          'xtick.minor.width': 0.6,\n",
            "          'xtick.top': False,\n",
            "          'ytick.alignment': 'center_baseline',\n",
            "          'ytick.color': '.15',\n",
            "          'ytick.direction': 'out',\n",
            "          'ytick.labelleft': True,\n",
            "          'ytick.labelright': False,\n",
            "          'ytick.labelsize': 16.0,\n",
            "          'ytick.left': True,\n",
            "          'ytick.major.left': True,\n",
            "          'ytick.major.pad': 3.5,\n",
            "          'ytick.major.right': True,\n",
            "          'ytick.major.size': 0.0,\n",
            "          'ytick.major.width': 0.8,\n",
            "          'ytick.minor.left': True,\n",
            "          'ytick.minor.pad': 3.4,\n",
            "          'ytick.minor.right': True,\n",
            "          'ytick.minor.size': 0.0,\n",
            "          'ytick.minor.visible': False,\n",
            "          'ytick.minor.width': 0.6,\n",
            "          'ytick.right': False}))\n"
          ]
        }
      ]
    },
    {
      "cell_type": "code",
      "source": [
        ""
      ],
      "metadata": {
        "id": "Fycv44UD8D23"
      },
      "execution_count": null,
      "outputs": []
    }
  ]
}