{
  "nbformat": 4,
  "nbformat_minor": 0,
  "metadata": {
    "colab": {
      "name": "NSGAII.ipynb",
      "provenance": [],
      "collapsed_sections": [],
      "authorship_tag": "ABX9TyNLlfTvJ4eQ2VjNEZoUupSC",
      "include_colab_link": true
    },
    "kernelspec": {
      "name": "python3",
      "display_name": "Python 3"
    },
    "language_info": {
      "name": "python"
    }
  },
  "cells": [
    {
      "cell_type": "markdown",
      "metadata": {
        "id": "view-in-github",
        "colab_type": "text"
      },
      "source": [
        "<a href=\"https://colab.research.google.com/github/pedsanches/C-digos_GA/blob/main/NSGAII.ipynb\" target=\"_parent\"><img src=\"https://colab.research.google.com/assets/colab-badge.svg\" alt=\"Open In Colab\"/></a>"
      ]
    },
    {
      "cell_type": "markdown",
      "source": [
        "#Import e inicializações"
      ],
      "metadata": {
        "id": "6LlmEScl4H-M"
      }
    },
    {
      "cell_type": "code",
      "execution_count": null,
      "metadata": {
        "id": "vEjJyTUPvNDl"
      },
      "outputs": [],
      "source": [
        "%matplotlib inline\n",
        "import matplotlib.pyplot as plt\n",
        "plt.style.use('seaborn-whitegrid')\n",
        "from sklearn.utils import shuffle\n",
        "import numpy as np\n",
        "import random\n",
        "import matplotlib.cm as cm\n",
        "from numpy import loadtxt\n",
        "import pandas as pd\n",
        "from math import sin,sqrt,pi,cos\n",
        "import re\n",
        "import time\n",
        "import networkx as nx\n",
        "#import matplotlib.animation as animation\n",
        "from matplotlib.animation import PillowWriter\n",
        "import imageio\n",
        "from matplotlib.animation import FuncAnimation\n",
        "from IPython import display\n",
        "import os\n",
        "import operator\n",
        "import math \n",
        "from itertools import repeat\n"
      ]
    },
    {
      "cell_type": "code",
      "source": [
        "def inicial():\n",
        "  x = [\n",
        "[ 8.51389406e-01, -7.23566417e-01],\n",
        "[ 3.01462124e-05,  1.08023944e+00],\n",
        "[ 4.45608330e-01, -4.74051121e-02],\n",
        "[ 8.08212515e-01, -5.39493958e-02],\n",
        "[ 4.12117981e-01,  2.66389968e-01],\n",
        "[ 2.61351443e-01,  2.92122799e-01],\n",
        "[ 1.88267335e-01,  7.24329158e-01],\n",
        "[ 4.27200857e-01,  8.99173570e-02],\n",
        "[ 8.21765850e-01, -3.72304469e-01],\n",
        "[ 8.12048166e-01, -1.19660131e-01],\n",
        "[ 2.31420167e-01,  4.22194727e-01],\n",
        "[ 3.23607093e-02,  8.94605037e-01],\n",
        "[ 9.11930970e-02,  7.54687189e-01],\n",
        "[ 8.31755960e-01, -5.59038432e-01],\n",
        "[ 2.02664430e-02,  9.58962780e-01],\n",
        "[ 2.05785586e-01,  6.02087148e-01],\n",
        "[ 2.12953650e-01,  5.29928387e-01],\n",
        "[ 6.97982471e-02,  7.71314624e-01],\n",
        "[ 8.26500943e-01, -4.67218402e-01],\n",
        "[ 8.46265914e-01, -6.91044392e-01],\n",
        "[ 8.51306714e-01, -7.65335554e-01],\n",
        "[ 4.14190817e-06,  1.01390778e+00],\n",
        "[ 4.53293831e-01, -1.16432916e-01],\n",
        "[ 8.09315989e-01, -1.25008239e-01],\n",
        "[ 8.15117180e-02,  6.91358267e-01],\n",
        "[ 4.11355093e-01,  2.46306870e-01],\n",
        "[ 2.32283258e-02,  8.59464758e-01],\n",
        "[ 2.00303529e-01,  5.81551520e-01],\n",
        "[ 2.56249437e-01,  2.54430174e-01],\n",
        "[ 4.32978288e-01, -1.33226599e-02],\n",
        "[ 8.31395290e-01, -5.96601052e-01],\n",
        "[ 8.24366530e-01, -4.69646054e-01],\n",
        "[ 2.23678972e-01,  3.87446479e-01],\n",
        "[ 1.84825179e-01,  6.68145090e-01],\n",
        "[ 4.20680852e-01,  1.06925624e-01],\n",
        "[ 8.18956560e-01, -3.51267396e-01],\n",
        "[ 5.96277398e-03,  9.54115048e-01],\n",
        "[ 2.51140658e-01,  2.60446714e-01],\n",
        "[ 8.41474392e-01, -7.06881428e-01],\n",
        "[ 2.24750814e-01,  3.79342567e-01],\n",
        "[ 8.49199286e-01, -3.88611651e-01],\n",
        "[ 9.10759361e-05,  1.67374441e+00],\n",
        "[ 4.51416823e-01,  3.66527342e-01],\n",
        "[ 8.08354645e-01,  3.25377822e-01],\n",
        "[ 4.07014041e-01,  7.24945605e-01],\n",
        "[ 2.57409035e-01,  7.59115273e-01],\n",
        "[ 2.15578638e-02,  1.47886841e+00],\n",
        "[ 6.25198676e-02,  1.27225744e+00],\n",
        "[ 1.67831108e-01,  1.26435806e+00],\n",
        "[ 4.19798312e-01,  5.82254622e-01],\n",
        "[ 5.09853206e-02,  1.35238276e+00],\n",
        "[ 2.51474191e-01,  7.95823741e-01],\n",
        "[ 2.11075635e-01,  9.40343521e-01],\n",
        "[ 8.23790692e-01, -4.10381929e-02],\n",
        "[ 7.44082894e-04,  1.63113058e+00],\n",
        "[ 8.41621767e-01, -3.07229439e-01],\n",
        "[ 8.14555543e-01,  1.27408823e-01],\n",
        "[ 1.77582271e-01,  1.20156321e+00],\n",
        "[ 1.92006361e-01,  1.12056483e+00],\n",
        "[ 2.01135819e-01,  1.06080090e+00]\n",
        "]\n",
        "  x= shuffle(x,random_state=0)\n",
        "  return x"
      ],
      "metadata": {
        "id": "VAOhb1aKQigV"
      },
      "execution_count": null,
      "outputs": []
    },
    {
      "cell_type": "markdown",
      "source": [
        "#Gera Indv MOP4\n"
      ],
      "metadata": {
        "id": "CcQDX5rM4MrM"
      }
    },
    {
      "cell_type": "code",
      "source": [
        "def gera_ind_mop4(maximo):\n",
        "  return [[(random.random()-0.5)*maximo,(random.random()-0.5)*maximo,(random.random()-0.5)*maximo],np.inf,np.inf]\n",
        "#print(gera_ind_mop4())"
      ],
      "metadata": {
        "id": "0FBvFunZ4kLb"
      },
      "execution_count": null,
      "outputs": []
    },
    {
      "cell_type": "markdown",
      "source": [
        "#Gera Indv ZDT3"
      ],
      "metadata": {
        "id": "YOiuK3BZzb_8"
      }
    },
    {
      "cell_type": "code",
      "source": [
        "def gera_ind_zdt3():\n",
        "  indv = []\n",
        "  for i in range(30):\n",
        "    indv.append(random.random())\n",
        "  return [indv]\n",
        "#print(gera_ind_zdt3())"
      ],
      "metadata": {
        "id": "19QJi9cRzfla"
      },
      "execution_count": null,
      "outputs": []
    },
    {
      "cell_type": "markdown",
      "source": [
        "#Gera Indv ZDT4"
      ],
      "metadata": {
        "id": "SaJI9A9IshqH"
      }
    },
    {
      "cell_type": "code",
      "source": [
        "def gera_ind_zdt4():\n",
        "  indv = []\n",
        "  for i in range(10):\n",
        "    if(i==0):\n",
        "      indv.append(random.random())\n",
        "    else:\n",
        "      indv.append((random.random()-0.5)*10)\n",
        "  return [indv]\n",
        "#print(gera_ind_zdt3())"
      ],
      "metadata": {
        "id": "jkTOx8ouslU9"
      },
      "execution_count": null,
      "outputs": []
    },
    {
      "cell_type": "markdown",
      "source": [
        "#Calcula F de MOP4"
      ],
      "metadata": {
        "id": "SPyew9uw7cAD"
      }
    },
    {
      "cell_type": "code",
      "source": [
        "def f_mop4(indv):\n",
        "  if(len(indv) >= 3):\n",
        "    indv[1] = sum(-10 * math.exp(-0.2 * math.sqrt(x * x + y * y)) for x, y in zip(indv[0][:-1], indv[0][1:]))\n",
        "    indv[2] = sum(abs(x)**0.8 + 5 * math.sin(x * x * x) for x in indv[0])\n",
        "  else:\n",
        "    indv.append(sum(-10 * math.exp(-0.2 * math.sqrt(x * x + y * y)) for x, y in zip(indv[0][:-1], indv[0][1:])))\n",
        "    indv.append(sum(abs(x)**0.8 + 5 * math.sin(x * x * x) for x in indv[0]))\n",
        "  return indv\n"
      ],
      "metadata": {
        "id": "TMfinuP17prb"
      },
      "execution_count": null,
      "outputs": []
    },
    {
      "cell_type": "markdown",
      "source": [
        "#Calcula ZDT3"
      ],
      "metadata": {
        "id": "q5qSBWSrypXj"
      }
    },
    {
      "cell_type": "code",
      "source": [
        "\n",
        "def f_ZDT3(individual):\n",
        "    #print(individual)\n",
        "    g  = 1.0 + 9.0*sum(individual[1:])/(len(individual)-1)\n",
        "    f1 = individual[0]\n",
        "    f2 = g * (1 - sqrt(f1/g) - f1/g * sin(10*pi*f1))\n",
        "\n",
        "    #print(f1,f2)\n",
        "\n",
        "    return f1, f2"
      ],
      "metadata": {
        "id": "ooO50H_-yrEi"
      },
      "execution_count": null,
      "outputs": []
    },
    {
      "cell_type": "code",
      "source": [
        "def separa_ZDT3(indv):\n",
        "  if (len(indv) >= 3):\n",
        "    #print(i[0])\n",
        "    aux = f_ZDT3(indv[0].copy())\n",
        "    indv[1] = aux[0]\n",
        "    indv[2] = aux[1] \n",
        "  else:\n",
        "    aux = f_ZDT3(indv[0].copy())\n",
        "    indv += [aux[0]] + [aux[1]]\n",
        "  return indv\n"
      ],
      "metadata": {
        "id": "qbYt4S7i7Etf"
      },
      "execution_count": null,
      "outputs": []
    },
    {
      "cell_type": "markdown",
      "source": [
        "#Calcula ZDT4"
      ],
      "metadata": {
        "id": "-Xex9yDMoyCg"
      }
    },
    {
      "cell_type": "code",
      "source": [
        "def separa_ZDT4(indv):\n",
        "  if (len(indv) >= 3):\n",
        "    #print(i[0])\n",
        "    aux = zdt4(indv[0].copy())\n",
        "    indv[1] = aux[0]\n",
        "    indv[2] = aux[1] \n",
        "  else:\n",
        "    aux = zdt4(indv[0].copy())\n",
        "    indv += [aux[0]] + [aux[1]]\n",
        "  return indv"
      ],
      "metadata": {
        "id": "fwNTFv77sYbW"
      },
      "execution_count": null,
      "outputs": []
    },
    {
      "cell_type": "code",
      "source": [
        "def zdt4(individual):\n",
        "    g  = 1 + 10*(len(individual)-1) + sum(xi**2 - 10*cos(4*pi*xi) for xi in individual[1:])\n",
        "    f1 = individual[0]\n",
        "    f2 = g * (1 - sqrt(f1/g))\n",
        "    return f1, f2"
      ],
      "metadata": {
        "id": "KBoj5pCgo0ef"
      },
      "execution_count": null,
      "outputs": []
    },
    {
      "cell_type": "markdown",
      "source": [
        "#Separa Ranks"
      ],
      "metadata": {
        "id": "m7rIU1RWvyNn"
      }
    },
    {
      "cell_type": "code",
      "source": [
        "def non_dominate(lista = []):\n",
        "  for i in lista:\n",
        "    if(len(i) < 4):\n",
        "      i.append(0)\n",
        "  #print(lista_retorno)\n",
        "  for i in lista:\n",
        "    for j in lista:\n",
        "      if(i[1] >= j[1] and i[2] >= j[2] and  i != j):\n",
        "        i[3] += 1\n",
        "  return(lista.copy())\n"
      ],
      "metadata": {
        "id": "OGKuewJivxS4"
      },
      "execution_count": null,
      "outputs": []
    },
    {
      "cell_type": "markdown",
      "source": [
        "#Calc Dist"
      ],
      "metadata": {
        "id": "I3tpJvk2ABoI"
      }
    },
    {
      "cell_type": "code",
      "source": [
        "qntd_obj = 2\n",
        "def arruma_dist(list_rank):\n",
        "\n",
        "  list_rank = sorted(list_rank, key=lambda x: (x[3]))\n",
        "\n",
        "  #print(len(list_rank),*list_rank,sep = '\\n')\n",
        "  \n",
        "  aux = list_rank.copy()\n",
        "  lista_nova = []\n",
        "  lista_total = []\n",
        "\n",
        "  while(list_rank):\n",
        "    if(len(list_rank) == 1):\n",
        "      lista_nova.append(list_rank[0])\n",
        "      del(list_rank[0])\n",
        "      lista_total += calc_dist(lista_nova.copy()).copy()\n",
        "      lista_nova = []\n",
        "      \n",
        "    else:\n",
        "      if(list_rank[0][len(list_rank[0])-1] == list_rank[1][len(list_rank[1])-1] ):\n",
        "        lista_nova.append(list_rank[0])\n",
        "        del(list_rank[0])\n",
        "\n",
        "      else:\n",
        "        lista_nova.append(list_rank[0])\n",
        "        del(list_rank[0])\n",
        "        #print(lista_nova)\n",
        "        lista_total = lista_total + calc_dist(lista_nova.copy()).copy()\n",
        "        #print(lista_nova)\n",
        "        lista_nova = []\n",
        "  \n",
        "  return lista_total.copy()\n",
        "   \n"
      ],
      "metadata": {
        "id": "MHGL8nqPADSW"
      },
      "execution_count": null,
      "outputs": []
    },
    {
      "cell_type": "code",
      "source": [
        "def calc_dist(lista_arrumada):\n",
        "\n",
        "  aux = lista_arrumada.copy()\n",
        "\n",
        "  for i in lista_arrumada:\n",
        "    if(len(i) <= 4):\n",
        "      i.append(0)\n",
        "    else:\n",
        "      i[4] = 0\n",
        "\n",
        "  #print(lista_arrumada)\n",
        "  #print(len(lista_arrumada),*lista_arrumada,sep = '\\n')\n",
        "\n",
        "#PLOT DO GRÁFICO APENAS\n",
        "  #if(lista_arrumada[0][2] == 0):\n",
        "    #plt.xlim(-0.25,1)\n",
        "    #plt.ylim(-1,2)\n",
        "    #x = []\n",
        "    #y = []\n",
        "    #for i in (lista_arrumada):\n",
        "      #x.append(i[0])\n",
        "      #y.append(i[1])\n",
        "    #plt.plot(x,y)\n",
        "    #plt.scatter(x,y)\n",
        "#FIM\n",
        "  #lista_arrumada = sorted(lista_arrumada, key=lambda x: (x[2], x[0]))\n",
        "  #print(\"Obj 1:\",lista_arrumada)\n",
        "  #lista_arrumada = sorted(lista_arrumada, key=lambda x: (x[2], x[1]))\n",
        "  #print(\"Obj 2:\",lista_arrumada)\n",
        "  \n",
        "  for i in range(qntd_obj):\n",
        "    lista_arrumada = aux.copy()\n",
        "    lista_arrumada = sorted(lista_arrumada, key=lambda x: (x[len(x)-2], x[i-4]))\n",
        "    \n",
        "    #print(lista_arrumada)\n",
        "\n",
        "    #print(len(lista_arrumada),*lista_arrumada,sep = '\\n')\n",
        "\n",
        "    if(len(lista_arrumada)==1):\n",
        "      lista_arrumada[0][len(lista_arrumada[0])-1] +=  np.inf\n",
        "\n",
        "    else:\n",
        "      #print(lista_arrumada[len(lista_arrumada)-1])\n",
        "      lista_arrumada[len(lista_arrumada)-1][len(lista_arrumada[len(lista_arrumada)-1]) -1] += np.inf\n",
        "      lista_arrumada[0][len(lista_arrumada[0])-1] += np.inf\n",
        "\n",
        "    if(len(lista_arrumada)>2):\n",
        "      for i in range(1,len(lista_arrumada)-1):\n",
        "        #print(i,abs(lista_arrumada[i-1][0]-lista_arrumada[i+1][0])*abs(lista_arrumada[i-1][1]-lista_arrumada[i+1][1]))\n",
        "        #print(lista_arrumada[i-1] )\n",
        "        lista_arrumada[i][len(lista_arrumada[i])-1] += abs(lista_arrumada[i-1][len(lista_arrumada[i-1]) - 4] - lista_arrumada[i+1][len(lista_arrumada[i+1])-4]) + abs(lista_arrumada[i-1][len(lista_arrumada[i-1])-3]-lista_arrumada[i+1][len(lista_arrumada[i+1])-3])\n",
        "  #print(lista_arrumada)\n",
        "\n",
        "  return lista_arrumada.copy()"
      ],
      "metadata": {
        "id": "K8KkDUYnY7t3"
      },
      "execution_count": null,
      "outputs": []
    },
    {
      "cell_type": "markdown",
      "source": [
        "#Torneio"
      ],
      "metadata": {
        "id": "Raz8qTFgSIUu"
      }
    },
    {
      "cell_type": "code",
      "source": [
        "def torneio(pop  = []):\n",
        "  indv1 = pop[random.randint(0,len(pop)-1)]\n",
        "  indv2 = pop[random.randint(0,len(pop)-1)]\n",
        "  #print(indv1,indv2)\n",
        "\n",
        "  if(indv1[len(indv1)-2] < indv2[len(indv2)-2]):\n",
        "    return indv1\n",
        "  elif(indv1[len(indv1)-2] > indv2[len(indv2)-2]):\n",
        "    return indv2 \n",
        "  else:\n",
        "    if(indv1[len(indv1)-1] > indv2[len(indv2)-1]):\n",
        "      return indv1\n",
        "    else:\n",
        "      return indv2"
      ],
      "metadata": {
        "id": "oDU6tVMxSJ_9"
      },
      "execution_count": null,
      "outputs": []
    },
    {
      "cell_type": "markdown",
      "source": [
        "#Crossover"
      ],
      "metadata": {
        "id": "Xbx_dVS9Qj35"
      }
    },
    {
      "cell_type": "code",
      "source": [
        "def crossover( problema,maximo, mininimo, indv1=[], indv2=[]):\n",
        "\n",
        "  if(len(indv1[0]) != len(indv2[0])):\n",
        "    print(\"Está errado o tamanho das variáveis dos pais\")\n",
        "    os.exit()\n",
        "\n",
        "  filho1 = []\n",
        "  filho2 = []\n",
        "  \n",
        "  if(random.random() <= taxa_cros):\n",
        "    corte =  random.randint(0,len(indv1[0])-1)\n",
        "    #print(corte)\n",
        "    for i in range(corte+1):\n",
        "      filho1.append(indv1[0][i])\n",
        "      filho2.append(indv2[0][i])\n",
        "      #print(i)\n",
        "\n",
        "    for i in range(len(indv1[0])-1):\n",
        "      if(i <= corte-1):\n",
        "        continue\n",
        "      filho2.append(indv1[0][i])\n",
        "\n",
        "    for i in range(len(indv2[0])-1):\n",
        "      if(i <= corte-1):\n",
        "        continue\n",
        "      filho1.append(indv2[0][i])\n",
        "\n",
        "\n",
        "    #print(\"\\n\")\n",
        "  else:\n",
        "    for i in indv1[0]:\n",
        "      filho1.append(i)\n",
        "    for i in indv2[0]:\n",
        "      filho2.append(i)\n",
        "  \n",
        "  filho1 = mutGaussian(problema,maximo,mininimo,filho1, sigma=0.4, indpb=1/len(filho1))\n",
        "  filho2 = mutGaussian(problema,maximo,mininimo,filho2, sigma=0.4, indpb=1/len(filho2))\n",
        "\n",
        "  filho1 = [filho1,np.inf,np.inf]\n",
        "  filho2 = [filho2,np.inf,np.inf]\n",
        "\n",
        "  if(len(filho1[0]) != len(filho2[0])):\n",
        "    print(\"Está errado o tamanho das variáveis  dos filhos\")\n",
        "    os.exit()\n",
        "  #else:\n",
        "    #print(\"Pais \",len(indv1[0]),len(indv2[0]),\"   Filhos \",len(filho1[0]),len(filho2[0]))\n",
        "\n",
        "  return [filho1,filho2]\n",
        "\n",
        "#print(crossover([[-4.6825064524562565, 2.174196386532643, -0.6322659071386405], -9.919163440909003, -3.243024868368459, 0, np.inf],[[0.3414095670651762, -3.521055645944202, -4.422469559891049], -8.157094903465353, 13.233343502557116, 33, np.inf]))\n"
      ],
      "metadata": {
        "id": "_DgjhBOEQniY"
      },
      "execution_count": null,
      "outputs": []
    },
    {
      "cell_type": "markdown",
      "source": [
        "#Mutação"
      ],
      "metadata": {
        "id": "YwMhLLjTdi6N"
      }
    },
    {
      "cell_type": "code",
      "source": [
        "def mutGaussian(problema,maximo,minimo,individual, sigma, indpb):\n",
        "  for i in range(len(individual)):\n",
        "      if random.random() < indpb:\n",
        "          individual[i] = random.gauss(individual[i], sigma*individual[i])\n",
        "          if(problema != 3):\n",
        "            if (individual[i] > maximo):\n",
        "              individual[i] = maximo\n",
        "            elif(individual[i] < minimo):\n",
        "              individual[i] = minimo\n",
        "          else:\n",
        "            if(i==0):\n",
        "              if (individual[i] > maximo):\n",
        "                individual[i] = maximo\n",
        "              elif(individual[i] < minimo):\n",
        "                individual[i] = minimo\n",
        "            else:\n",
        "              if (individual[i] > 5):\n",
        "                individual[i] = 5\n",
        "              elif(individual[i] < -5):\n",
        "                individual[i] = -5\n",
        "\n",
        "  return individual"
      ],
      "metadata": {
        "id": "OxJM8GBPfSl_"
      },
      "execution_count": null,
      "outputs": []
    },
    {
      "cell_type": "markdown",
      "source": [
        "#GA"
      ],
      "metadata": {
        "id": "o7AuamqiCRt4"
      }
    },
    {
      "cell_type": "code",
      "source": [
        "tam_pop = 100\n",
        "pop = []\n",
        "taxa_cros = 0.8\n",
        "taxa_mut = 0.2\n",
        "filhos = []\n",
        "filhos_aux = []\n",
        "def body(problema,geracoes_limite,pop_t):\n",
        "  tam_pop = pop_t\n",
        "###limites dos valores das variáveis de cada problema\n",
        "  if(problema == 1):\n",
        "    maximo = 5\n",
        "    minimo = -5\n",
        "  elif(problema == 2 or problema == 3):\n",
        "    maximo = 1\n",
        "    minimo = 0\n",
        "###\n",
        "\n",
        "###definição das variaveis auxiliares dos graficos\n",
        "  melhorpai = []\n",
        "  geracao = 0\n",
        "  pop = []\n",
        "  media1  = []\n",
        "  media2  = []\n",
        "  media1ret  = []\n",
        "  media2ret = []\n",
        "  filhos = []\n",
        "  fronteiras = []\n",
        "  aux = []\n",
        "###\n",
        "\n",
        "##INICIA A POPULAÇÃO\n",
        "  for i in range(tam_pop):\n",
        "    if(problema == 1):\n",
        "      pop.append(gera_ind_mop4(maximo))\n",
        "      pop[i] = f_mop4(pop[i].copy()).copy()\n",
        "\n",
        "    elif(problema == 2):\n",
        "      pop.append(gera_ind_zdt3())\n",
        "      pop[i] = separa_ZDT3(pop[i].copy()).copy()\n",
        "\n",
        "    elif(problema == 3):\n",
        "      pop.append(gera_ind_zdt4())\n",
        "      pop[i] = separa_ZDT4(pop[i].copy()).copy()\n",
        "    \n",
        "    else:\n",
        "      print(\"Não existe esse problema\")\n",
        "      os.exit()\n",
        "  \n",
        "  while(1>0):\n",
        "\n",
        "###Calculando os valores dos objetivos\n",
        "    for i in pop:\n",
        "      if(problema == 1):\n",
        "        i = f_mop4(i.copy()).copy()\n",
        "\n",
        "      elif(problema == 2):\n",
        "        i = separa_ZDT3(i.copy()).copy()\n",
        "\n",
        "      elif(problema == 3):\n",
        "        i = separa_ZDT4(i.copy()).copy()\n",
        "      else:\n",
        "        break\n",
        "\n",
        "###Calculando a não dominancia\n",
        "    pop = non_dominate(pop.copy()) \n",
        "###Calculando a distancia entre pontos vizinhos\n",
        "    pop = arruma_dist(pop)\n",
        "\n",
        "   #print(len(pop),*pop,sep = '\\n')\n",
        "\n",
        "###Cruzando a população por torneio\n",
        "    for i in range(int(tam_pop/2)):\n",
        "      filhos_aux = crossover(problema,maximo,minimo,torneio(pop.copy()),torneio(pop.copy()))\n",
        "\n",
        "      if(problema == 1):\n",
        "        filhos.append(f_mop4(filhos_aux[0].copy()).copy())\n",
        "        filhos.append(f_mop4(filhos_aux[1].copy()).copy())\n",
        "\n",
        "      elif(problema == 2):\n",
        "        filhos.append(separa_ZDT3(filhos_aux[0].copy()).copy())\n",
        "        filhos.append(separa_ZDT3(filhos_aux[1].copy()).copy())\n",
        "\n",
        "      elif(problema == 3):\n",
        "        filhos.append(separa_ZDT4(filhos_aux[0].copy()).copy())\n",
        "        filhos.append(separa_ZDT4(filhos_aux[1].copy()).copy())\n",
        "\n",
        "    #print(len(pop),*pop,sep = '\\n')\n",
        "    \n",
        "    \n",
        "###Juntando pais e filhos\n",
        "    pop += filhos.copy()\n",
        "\n",
        "###Eliminando o rank e a distancia calculadas anteriormente\n",
        "    for i in pop:\n",
        "      del(i[3:])\n",
        "    #print(len(pop),*pop,sep = '\\n')\n",
        "\n",
        "    \n",
        "###Aqui é refeita a avaliação das, para que assim possamos escolher os 50% melhores individuos\n",
        "    for i in filhos:\n",
        "      if(problema == 1):\n",
        "        i = f_mop4(i.copy()).copy()\n",
        "\n",
        "      elif(problema == 2):\n",
        "        i = separa_ZDT3(i.copy()).copy()\n",
        "      \n",
        "      elif(problema == 3):\n",
        "        i = separa_ZDT4(i.copy()).copy()\n",
        "\n",
        "###Calculando a dominancia novamente\n",
        "    pop = non_dominate(pop.copy()) \n",
        "\n",
        "    #print(len(pop),*pop,sep = '\\n')\n",
        "\n",
        "###Calculando a distancia novamente\n",
        "    pop = arruma_dist(pop)\n",
        "\n",
        "   # print(len(pop),*pop,sep = '\\n')\n",
        "\n",
        "###Organizando a população do melhor para o pior, para assim, mantermos os 50% melhores\n",
        "    pop = sorted(pop, key=lambda x: (x[3], -x[4]))\n",
        "    del(pop[tam_pop:])\n",
        "\n",
        "###Reiniciando o vetor dos filhos\n",
        "    filhos = []\n",
        "\n",
        "    #print(len(pop),*pop,sep = '\\n')\n",
        "    #print(len(filhos),*filhos,sep = '\\n')\n",
        "\n",
        "###GRAFICO    \n",
        "    for i in pop:\n",
        "      media1.append(i[1])\n",
        "      media2.append(i[2])\n",
        "    media1 = np.mean(media1)\n",
        "    media2 = np.mean(media2)   \n",
        "    media1ret.append(np.mean(media1))\n",
        "    media2ret.append(np.mean(media2))\n",
        "    melhorpai.append(pop[0].copy())\n",
        "    media1 = []\n",
        "    media2 = []\n",
        "    \n",
        "    aux = []\n",
        "\n",
        "    for i in (pop):\n",
        "      if(i[len(i)-2] != 0):\n",
        "        continue\n",
        "      aux.append(i.copy())\n",
        "    fronteiras.append(aux.copy())\n",
        "    aux = []\n",
        "###GRAFICO    \n",
        "\n",
        "    geracao += 1\n",
        "    if(geracao >= geracoes_limite):\n",
        "      #print(len(filhos),*filhos,sep = '\\n')\n",
        "      return(pop,melhorpai,media1ret,media2ret,fronteiras)\n",
        "\n"
      ],
      "metadata": {
        "id": "jl5gDmudwV8T"
      },
      "execution_count": null,
      "outputs": []
    },
    {
      "cell_type": "markdown",
      "source": [
        "#Auxilia a salvar o gif com o nome certo"
      ],
      "metadata": {
        "id": "NNpyMWCKpUyF"
      }
    },
    {
      "cell_type": "code",
      "source": [
        "def retorna_nome_func(aux):\n",
        "  if(aux == 1):\n",
        "    return \"mop4\"\n",
        "  elif(aux == 2):\n",
        "    return \"zdt3\"\n",
        "  elif(aux == 3):\n",
        "    return \"zdt4\"\n",
        "  else:\n",
        "    return \"erro\""
      ],
      "metadata": {
        "id": "NxPY68BMR07J"
      },
      "execution_count": null,
      "outputs": []
    },
    {
      "cell_type": "markdown",
      "source": [
        "#Func gera GIF"
      ],
      "metadata": {
        "id": "bR1aoAlvpbcF"
      }
    },
    {
      "cell_type": "code",
      "source": [
        "def func_gif_front(teste,item = []):\n",
        "\n",
        "  k = 0\n",
        "  filenames = []\n",
        "  x = []\n",
        "  y = []\n",
        "\n",
        "  for i in (item):\n",
        "    for j in i:\n",
        "      x.append(j[1])\n",
        "      y.append(j[2])\n",
        "    plt.scatter(x,y)\n",
        "    plt.xlabel('F1')\n",
        "    plt.ylabel('F2')\n",
        "    x = []\n",
        "    y = []\n",
        "    filename = f'{k}.png'\n",
        "    if(filename == '99.png'):\n",
        "     print(len(i),*i,sep = '\\n')\n",
        "    k+=1\n",
        "    filenames.append(filename)\n",
        "    #plt.xlim(-0.2,1.2)\n",
        "    #plt.ylim(-0.2,1.2)\n",
        "    plt.title(k+1)\n",
        "    plt.savefig(filename)\n",
        "    plt.close()\n",
        "\n",
        "  with imageio.get_writer(f'{retorna_nome_func(teste)}.gif', mode='I') as writer:\n",
        "    for filename in filenames:\n",
        "        image = imageio.imread(filename)\n",
        "        writer.append_data(image)\n",
        "     \n",
        "  # Remove files\n",
        "  for filename in set(filenames):\n",
        "      if(filename == '99.png'):\n",
        "        continue\n",
        "      os.remove(filename)"
      ],
      "metadata": {
        "id": "VKaWkDlUpeDV"
      },
      "execution_count": null,
      "outputs": []
    },
    {
      "cell_type": "markdown",
      "source": [
        "#Executa"
      ],
      "metadata": {
        "id": "rXQ38azZ3d2g"
      }
    },
    {
      "cell_type": "code",
      "source": [
        "def exec():\n",
        "  filenames = []\n",
        "\n",
        "\n",
        "  teste = 1\n",
        "  gera =  100\n",
        "  pop_t = 200\n",
        "  pop = body(teste,gera,pop_t)\n",
        "\n",
        "\n",
        "  #print(pop[4][len(pop[4])-1])\n",
        "  pop[4][len(pop[4])-1] = sorted(pop[4][len(pop[4])-1], key=lambda x: x[1])\n",
        "  #print(len(pop[4][len(pop[4])-1]),*pop[4][len(pop[4])-1],sep = '\\n')\n",
        "  #print(pop[1])\n",
        "  #PLOT DO GRÁFICO APENAS\n",
        "  x = []\n",
        "  y = []\n",
        "  #z = []\n",
        "\n",
        "\n",
        "  func_gif_front(teste,pop[4])\n",
        "\n",
        "  #plt.title(\"Fronteira 1\")\n",
        "  #plt.show()\n",
        "\n",
        "  x = []\n",
        "  y = []\n",
        "  a = []\n",
        "  b = []\n",
        "  for i in pop[1]:\n",
        "    x.append(i[1])\n",
        "    y.append(i[2])\n",
        "\n",
        "  plt.plot(range(len(pop[1])),x)\n",
        "  plt.plot(range(len(pop[1])),y)\n",
        "  plt.legend([\"F1\",\"F2\"])\n",
        "  #plt.xlim(0, 18)\n",
        "  plt.title(\"Melhores pais\")\n",
        "  plt.show()\n",
        "  x = []\n",
        "  y = []\n",
        "\n",
        "  for i in pop[2]:\n",
        "    x.append(i)\n",
        "  for i in pop[3]:\n",
        "    y.append(i)\n",
        "\n",
        "  plt.plot(range(len(pop[2])),x)\n",
        "  plt.plot(range(len(pop[3])),y)\n",
        "  plt.legend([\"F1\",\"F2\"])\n",
        "  #plt.xlim(0, 18)\n",
        "  plt.title(\"Medias\")\n",
        "  plt.show()\n",
        "\n",
        "  for i in pop[4][len(pop[4])-1]:\n",
        "    if(i[3] == 0):\n",
        "      x.append(i[1])\n",
        "      y.append(i[2])\n",
        "  \n",
        "    #z.append(i[0][2])\n",
        "  #plt.plot(x,y)\n",
        "\n",
        "  plt.scatter(x,y)\n",
        "  plt.show()\n",
        "  #ax = plt.axes(projection='3d')\n",
        "\n",
        "  # Data for a three-dimensional line\n",
        "  #ax.plot3D(x, y, z, 'gray')\n",
        "  #FIM\n",
        "\n",
        "exec()"
      ],
      "metadata": {
        "colab": {
          "base_uri": "https://localhost:8080/",
          "height": 1000
        },
        "id": "BqSaUYqAiWo-",
        "outputId": "5a7caa4a-ee8c-4f49-d314-058f103f8593"
      },
      "execution_count": null,
      "outputs": [
        {
          "output_type": "stream",
          "name": "stdout",
          "text": [
            "200\n",
            "[[-4.550404955243753e-05, -2.004618194311788e-06, -2.1280116106088106e-06], -19.9999030570239, 0.00039272226476319365, 0, inf]\n",
            "[[-0.00011123012026792537, -4.735582785106507e-05, -0.4834905991123609], -19.078058422640847, -0.0037481314477960386, 0, 0.9478181826087956]\n",
            "[[-0.00011123012026792537, -4.735582785106507e-05, -0.4834905991123609], -19.078058422640847, -0.0037481314477960386, 0, 0.9478181826087956]\n",
            "[[-0.4884682749977109, -0.00023399795141935357, -1.4422328010921767e-05], -19.068797961961668, -0.016320365281799955, 0, 0.18906031286290365]\n",
            "[[-0.5044113878737208, -0.0002940315587429816, -4.3198024542225283e-07], -19.039806321975107, -0.06002618721350728, 0, 0.37486434373757566]\n",
            "[[-0.5280823438048501, -0.00013010370959799452, -8.218022223868133e-05], -18.99738892293442, -0.13234349812333962, 0, 0.3548176763406774]\n",
            "[[-0.5405917874094035, -0.0006886525784069922, -0.00015307899251923413], -18.973802007454015, -0.17143071086275463, 0, 0.34186538751185536]\n",
            "[[-0.5603148126391853, -1.618743083178567e-05, -7.925947173445349e-07], -18.939847265847646, -0.24573453479249424, 0, 0.4062718013740412]\n",
            "[[-0.5775326949603289, -0.0009227326495375575, -0.00015307899251923413], -18.90727563851173, -0.30804024260749086, 0, 0.26546575164474184]\n",
            "[[-0.5904173435552064, -1.491934850452459e-05, -0.0001051287123251612], -18.886006411732264, -0.3649959691351643, 0, 0.36163721589510556]\n",
            "[[-0.6130656900158309, -4.4349234501701015e-05, -1.1006127092854222e-05], -18.84596677599358, -0.46540552870835267, 0, 0.5465004034815766]\n",
            "[[-0.6333309619477513, -1.5684741783052423e-06, -1.3796628658562622e-05], -18.810249401780723, -0.5624891609244114, 0, 0.3081615373179044]\n",
            "[[-0.6366194000191152, -0.00023399795141935357, -2.704942063658258e-05], -18.80401349062339, -0.5775330119971139, 0, 0.3470263016372792]\n",
            "[[-0.6584210841479917, -1.618743083178567e-05, -1.6073766883282183e-06], -18.7661451907817, -0.6918981007440275, 0, 0.3446958503084101]\n",
            "[[-0.6612523642078629, 2.9354659457601452e-05, -7.664545299519941e-06], -18.761154550963806, -0.7070219974917343, 0, 0.3601599386421548]\n",
            "[[-0.6831993282700938, -1.8945470921421164e-06, -0.0006886525784069922], -18.7214658755899, -0.8272987548733047, 0, 0.5644608113622005]\n",
            "[[-0.6989871507672281, 9.44173738046048e-06, -2.228759797493362e-05], -18.695295179960453, -0.9233930321694824, 0, 0.40027473593663854]\n",
            "[[-0.7088703465978791, -3.2962609362344704e-06, -5.213694562385317e-06], -18.678160672312014, -0.9841309195637387, 0, 0.3274776697341977]\n",
            "[[-0.7196935104902137, -0.00031293063283403783, -1.932470394214451e-05], -18.65878111621044, -1.0506178032865694, 0, 0.24040708756257212]\n",
            "[[-0.7292197270943337, 0.0010911854309658456, -6.708658690861462e-07], -18.64074215037117, -1.109588610848772, 0, 0.4166318062840775]\n",
            "[[-0.7486879960886816, 1.5295608152730867e-05, -2.06431862341331e-06], -18.609307696272268, -1.243797390447317, 0, 0.41083088242784394]\n",
            "[[-0.75332151197811, -1.841508885790229e-05, -1.743075915058063e-06], -18.601326964146534, -1.2755888658380565, 0, 0.4053316912835627]\n",
            "[[-0.7719555346590302, -4.2544481051246605e-05, -1.1006127092854222e-05], -18.569280123662516, -1.4064356634793465, 0, 0.3795186463532709]\n",
            "[[-0.7749591950923023, 2.7142258910461256e-05, -3.2962609362344704e-06], -18.564166982977955, -1.4281882078461137, 0, 0.2063534004164378]\n",
            "[[-0.7835127523625041, -0.0001927183366571325, -4.4404008082022464e-07], -18.54919780870829, -1.4895300487333387, 0, 0.1669378901498253]\n",
            "[[-0.7835127523625041, -0.0001927183366571325, -4.4404008082022464e-07], -18.54919780870829, -1.4895300487333387, 0, 0.1669378901498253]\n",
            "[[-0.793407393919892, -1.9380188021680967e-07, -6.931544474134958e-06], -18.532667128322558, -1.5636262433405417, 0, 0.40875354501013383]\n",
            "[[-0.0005909537986225686, -0.00016050881230029066, -0.8059710455666034], -18.5100429049307, -1.654751917460816, 0, 0.3268606638127567]\n",
            "[[-0.00020830609182690102, -0.0001722267898566233, -0.811213636865836], -18.501807457631735, -1.6961969045560967, 0, 0.22711224152015363]\n",
            "[[-0.8178518066078866, -1.6073766883282183e-06, -7.687134565216606e-06], -18.49105181949851, -1.749316952788702, 0, 0.3565940853307583]\n",
            "[[-0.8299094358722958, -1.414233775710679e-06, -1.9026124824673273e-05], -18.470577610134413, -1.843264099724154, 0, 0.25570046175072614]\n",
            "[[-0.8429020350924211, 2.9354659457601452e-05, -7.664545299519941e-06], -18.448572599234893, -1.9460115483883644, 0, 0.18275313161930518]\n",
            "[[-0.8477873853750699, -3.2962609362344704e-06, -7.664545299519941e-06], -18.440365715779773, -1.9852634523877235, 0, 0.2875020280720486]\n",
            "[[-0.8576790568891587, -3.6362958534938138e-06, -1.055137689120978e-05], -18.423678689700207, -2.0648686528897024, 0, 0.37298623243120854]\n",
            "[[-0.8671159536232969, -7.414184348099085e-06, 0.0012940887634819854], -18.405229400028126, -2.136620252851681, 0, 0.4300991397969369]\n",
            "[[-0.8795514076982092, -1.6707937269560582e-06, -1.93498164880145e-06], -18.386927149259954, -2.2431666823479177, 0, 0.3128926081949279]\n",
            "[[-0.8827590382627479, 1.3748081845013573e-05, -3.6362958534938138e-06], -18.381525109862373, -2.269362266783392, 0, 0.19566912214803622]\n",
            "[[-0.8894853038009849, -2.4997244910415232e-06, -0.00010157051994107285], -18.37008262090884, -2.324156715070821, 0, 0.20607401562323702]\n",
            "[[-0.8931807296280376, -4.343960395506758e-05, -3.2962609362344704e-06], -18.364014622516592, -2.3548887872492292, 0, 0.31156954050428354]\n",
            "[[-0.905399220029368, -0.0006886525784069922, -0.00015307899251923413], -18.342276106965116, -2.4521349713792397, 0, 0.42380000190951694]\n",
            "[[-5.611780326069052e-05, -2.6665227204300285e-06, -0.9145624443117087], -18.328297992532327, -2.531072158219723, 0, 0.3368627236499169]\n",
            "[[-0.9221844044463268, -1.6162866445840304e-06, -2.96948966062171e-05], -18.315664786022253, -2.5939550122613357, 0, 0.3426717806279269]\n",
            "[[-0.9319118071051731, -2.4522753764656613e-06, -5.072742804473501e-05], -18.299460337931997, -2.673570393933356, 0, 0.31522381350505047]\n",
            "[[-0.9382095518097118, -1.1122427259712137e-05, -4.2614206838622736e-05], -18.28902670375946, -2.7249288367510687, 0, 0.25925811328732173]\n",
            "[[-0.9454122301908274, -1.2977438610277645e-06, 0.0019244924144664632], -18.273334372835098, -2.777073485480118, 0, 0.2820697803680732]\n",
            "[[-0.9526590824532485, -7.015979512431478e-06, -1.71009235292876e-06], -18.265180160820382, -2.842117183996026, 0, 0.21349417851838126]\n",
            "[[-0.9561304195768949, -7.015979512431478e-06, -9.688886726050769e-07], -18.25944417456833, -2.8699303764725403, 0, 0.3712365931731405]\n",
            "[[-0.9720752390331014, -4.343960395506758e-05, -3.2962609362344704e-06], -18.23307404776508, -2.9956293675272936, 0, 0.39849456308550746]\n",
            "[[-0.9774435054430023, 0.0012223938123778132, -0.0002765614352792733], -18.22181884026071, -3.031552323707674, 0, 0.29112649014555547]\n",
            "[[-0.9877126828960574, -1.0675373368983998e-05, 8.70827736232794e-05], -18.20727681400426, -3.115395378839252, 0, 0.31825540861080626]\n",
            "[[-0.9944257453111962, -8.218022223868133e-05, -0.00013010370959799452], -18.196132477479825, -3.1649936652321924, 0, 0.2736022266257203]\n",
            "[[-1.0028134296094036, 1.3748081845013573e-05, -1.043681274490588e-05], -18.182667422177865, -3.227587100325717, 0, 0.17081193702514863]\n",
            "[[-1.0038742975443817, 1.1955132637764316e-05, -2.2881717663410287e-05], -18.180914341676214, -3.2351814979411557, 0, 0.17257204981308494]\n",
            "[[-1.0129229223779408, 0.0014403619860192218, -1.6550359948770191e-06], -18.163292081658597, -3.2944977847129913, 0, 0.21796321965636523]\n",
            "[[-1.024058989521998, -1.8224326008379594e-05, -2.141255746013202e-05], -18.14795025555017, -3.3758500355230057, 0, 0.24752501483980982]\n",
            "[[-1.0312392929962473, -3.5255102492682656e-05, -2.2872618576140973e-06], -18.136243198358148, -3.4232544718711773, 0, 0.1693551849308772]\n",
            "[[-1.0385656593277923, -3.6362958534938138e-06, 1.3748081845013573e-05], -18.124372222863716, -3.4700643665135016, 0, 0.17167441644863235]\n",
            "[[-1.0453842827650461, -2.5134532365039673e-05, -2.1908621456606513e-05], -18.11326208441735, -3.5116766650799396, 0, 0.21742785890832117]\n",
            "[[-1.0528242261457594, -1.043681274490588e-05, 6.646195205503785e-06], -18.10124045941489, -3.555646532518835, 0, 0.3050770225182262]\n",
            "[[-1.0665039342155362, -4.094977883781671e-05, -4.995771511828064e-05], -18.079001717716373, -3.629954809638076, 0, 0.22363463650720483]\n",
            "[[-1.0848591005089405, 0.0012223938123778132, -0.0002765614352792733], -18.047019152464493, -3.712026634055184, 0, 0.24698218577794684]\n",
            "[[-1.1031337284153107, -0.00012339765399907126, -8.218022223868133e-05], -18.019863279973634, -3.787187533742874, 0, 0.31921061599712885]\n",
            "[[-1.1154950145982525, -8.064181397610521e-06, 6.230709510947296e-05], -18.0002307422643, -3.8248435318535554, 0, 0.3074689822362169]\n",
            "[[-1.1461540992832084, -3.6691766286025317e-07, -0.0006886525784069922], -17.950072560212316, -3.8711313050996643, 0, 0.21562086614031717]\n",
            "[[-1.1513609234104198, -1.743075915058063e-06, -7.897908566665892e-06], -17.943157544628917, -3.8755807672883313, 0, 1.867549150362792]\n",
            "[[-1.1031337284153107, -0.00011350569238089481, -0.5182428243493876], -17.03558052489258, -3.8904138449613246, 0, 1.986669836272287]\n",
            "[[-1.0916832393300975, 0.004527208022743522, -0.5464886424957517], -17.00313383926672, -3.9288919800622777, 0, 0.24821381154549194]\n",
            "[[-1.0028134296094036, 1.3748081845013573e-05, -0.6788055586853037], -16.913213636132916, -4.032712104745376, 0, 0.32072000429671377]\n",
            "[[-0.6333309619477513, -1.5618237794206573e-06, -1.0530621925566763], -16.91115682221358, -4.119805843616762, 0, 0.30461761330873216]\n",
            "[[-1.0204501254021547, -4.843793080724656e-06, -0.6810272139727247], -16.88052294098985, -4.169520554588204, 0, 0.2297659292814398]\n",
            "[[-0.6835725040305003, -4.8556991152322245e-05, -1.0299549611945535], -16.86059615111916, -4.247286391026707, 0, 0.27350793841513266]\n",
            "[[-1.0453842827650461, -2.5134532365039673e-05, -0.6724194929468659], -16.85499830952019, -4.280749892326113, 0, 0.338716760494691]\n",
            "[[-0.7140188985517214, -9.389238708286459e-06, -1.0217626639403943], -16.820991049299835, -4.377039669454726, 0, 0.1772778859917734]\n",
            "[[-0.7140188985517214, -9.389238708286459e-06, -1.0217626639403943], -16.820991049299835, -4.377039669454726, 0, 0.1772778859917734]\n",
            "[[-1.0807796923791606, -1.3796628658562622e-05, -0.6630724779544017], -16.81412319318398, -4.417152661981676, 0, 0.2775910803543944]\n",
            "[[-1.001354435161679, 0.0012223938123778132, -0.7525048095774294], -16.787856090990164, -4.482700251322253, 0, 0.3134336937994213]\n",
            "[[-0.7587750454673456, 1.3748081845013573e-05, -1.0020396350451266], -16.775955896040976, -4.535702211738382, 0, 0.2966642692515471]\n",
            "[[-0.7486879960886816, 6.230709510947296e-05, -1.0217626639403943], -16.761088003801103, -4.604264298758965, 0, 0.17074080983813644]\n",
            "[[-0.7486879960886816, 6.230709510947296e-05, -1.0217626639403943], -16.761088003801103, -4.604264298758965, 0, 0.17074080983813644]\n",
            "[[-0.7587750454673456, 1.3748081845013573e-05, -1.0217626639403943], -16.74373695433441, -4.674224079869951, 0, 0.26024434757888315]\n",
            "[[-0.7587750454673456, 1.3748081845013573e-05, -1.0217626639403943], -16.74373695433441, -4.674224079869951, 0, 0.26024434757888315]\n",
            "[[-0.9454122301908274, -1.6550359948770191e-06, -0.8531169101808685], -16.708573167869588, -4.811993810406333, 0, 0.23609372030941778]\n",
            "[[-0.9454122301908274, -1.6550359948770191e-06, -0.8531169101808685], -16.708573167869588, -4.811993810406333, 0, 0.23609372030941778]\n",
            "[[-0.9774435054430023, 0.0012223938123778132, -0.8283476198861843], -16.697585664493335, -4.864166510338295, 0, 0.1923448466247244]\n",
            "[[-0.9067749258496489, -2.4997244910415232e-06, -0.9059112426448462], -16.68422497022275, -4.927484826553769, 0, 0.2992764277597608]\n",
            "[[-0.9045120683559454, 0.002414558634182314, -0.9196850333588379], -16.665039387273694, -5.014270667002682, 0, 0.48038291425111623]\n",
            "[[-0.9229720406152672, 0.0016426591972783207, -0.9145624443117087], -16.642819879876654, -5.126271193333231, 0, 0.3876236534788724]\n",
            "[[-0.9500420344217827, -3.610994367220997e-06, -0.893208796128475], -16.633576621000987, -5.1766197274694115, 0, 0.22290711918166117]\n",
            "[[-0.8609284878953778, 3.791125677021419e-05, -1.0014154418168317], -16.603218466648347, -5.308705396644213, 0, 0.27439100128304794]\n",
            "[[-0.9179667907793172, 1.3980804747957758e-05, -0.9442643103463756], -16.60182486943519, -5.333925243124122, 0, 0.3027868066364565]\n",
            "[[-0.9045120683559454, 0.0035657972390803067, -0.9722383978124776], -16.57803794352785, -5.434918276841945, 0, 0.23483175930777556]\n",
            "[[-0.9045120683559454, 0.0035657972390803067, -0.9722383978124776], -16.57803794352785, -5.434918276841945, 0, 0.23483175930777556]\n",
            "[[-1.0028134296094036, 1.3748081845013573e-05, -0.8861923981044406], -16.558502093022494, -5.5254342260192, 0, 0.3133781484953495]\n",
            "[[-0.8743205682673274, -8.064181397610521e-06, -1.0217626639403943], -16.547460438867034, -5.561029846428804, 0, 0.2698674983079936]\n",
            "[[-0.9711828180694012, 0.003248675109636407, -0.930210824337993], -16.536998303486342, -5.638864185637046, 0, 0.31805032541169176]\n",
            "[[-0.9944257453111962, -5.1476793585802514e-05, -0.9145624443117087], -16.52485059767088, -5.697445167938496, 0, 0.19394376933675694]\n",
            "[[-0.9024954570912186, 1.3748081845013573e-05, -1.0108209909492385], -16.51814212644841, -5.716979893267492, 0, 0.4401361633898855]\n",
            "[[-0.9944257453111962, -8.454986198829099e-05, -0.9368937367975333], -16.487736698348428, -5.880399350310986, 0, 0.2325700634642427]\n",
            "[[-0.9944257453111962, -8.454986198829099e-05, -0.9368937367975333], -16.487736698348428, -5.880399350310986, 0, 0.2325700634642427]\n",
            "[[-0.9711828180694012, 0.0028430560518992606, -0.9640071329734882], -16.481074136173724, -5.912481966457049, 0, 0.24728557289290798]\n",
            "[[-1.0219360173319425, -0.00010711246531688347, -0.9250241307969526], -16.462469533263867, -5.9787749716728795, 0, 0.4073932870945569]\n",
            "[[-1.001354435161679, 0.0012223938123778132, -0.9558272225762305], -16.445046686538355, -6.080151160368958, 0, 0.2554518057567794]\n",
            "[[-1.001354435161679, 0.0012223938123778132, -0.9558272225762305], -16.445046686538355, -6.080151160368958, 0, 0.2554518057567794]\n",
            "[[-0.9711828180694012, 0.003248675109636407, -1.0008409699811742], -16.420543808202872, -6.192301052368664, 0, 0.3227850290098129]\n",
            "[[-0.9944257453111962, -8.218022223868133e-05, -0.9789233026435709], -16.418332891066342, -6.214829879401852, 0, 0.19049526320367605]\n",
            "[[-0.9944257453111962, -8.218022223868133e-05, -0.9789233026435709], -16.418332891066342, -6.214829879401852, 0, 0.19049526320367605]\n",
            "[[-1.0204501254021547, -4.843793080724656e-06, -0.9722383978124776], -16.386782144057925, -6.3490346514273925, 0, 0.4228651480169976]\n",
            "[[-0.9500420344217827, -2.7174210432966913e-06, -1.0530621925566763], -16.370401467691586, -6.378331030035595, 0, 0.19820629278087054]\n",
            "[[-0.9500420344217827, -2.7174210432966913e-06, -1.0530621925566763], -16.370401467691586, -6.378331030035595, 0, 0.19820629278087054]\n",
            "[[-1.0028134296094036, 1.3748081845013573e-05, -1.0108209909492385], -16.35230967814209, -6.512768478292426, 0, 0.3048373704333205]\n",
            "[[-1.0028134296094036, 1.3748081845013573e-05, -1.0108209909492385], -16.35230967814209, -6.512768478292426, 0, 0.3048373704333205]\n",
            "[[-1.0129229223779408, 0.000979559045656704, -1.0186849731674514], -16.32294122705593, -6.635708159833261, 0, 0.48709381927670314]\n",
            "[[-1.041861652656794, 3.791125677021419e-05, -1.0014154418168317], -16.304036960281643, -6.708042670070332, 0, 0.3835671880037914]\n",
            "[[-1.0453842827650461, -2.264656896132573e-05, -1.009732616344142], -16.284715015939376, -6.789265542718601, 0, 0.3361473401496582]\n",
            "[[-1.0344110421099733, -1.7018244192820765e-05, -1.0295711766123745], -16.27018299857378, -6.856520145407428, 0, 0.17187653051392893]\n",
            "[[-1.0453842827650461, -2.5134532365039673e-05, -1.0278401792578575], -16.255175758331667, -6.9131934034521505, 0, 0.18884889668931137]\n",
            "[[-1.0453842827650461, -2.5134532365039673e-05, -1.0278401792578575], -16.255175758331667, -6.9131934034521505, 0, 0.18884889668931137]\n",
            "[[-1.0687390685758213, 5.2921328134494006e-05, -1.0217626639403943], -16.22726957083028, -7.00245561435324, 0, 0.33365272908454635]\n",
            "[[-1.0763080228694328, -1.6686077619386947e-05, -1.0217626639403943], -16.215054174313128, -7.039898183975884, 0, 0.2749739175326802]\n",
            "[[-1.0312392929962473, 0.0015584842059017164, -1.078703322601704], -16.195752973694297, -7.108425975983597, 0, 0.4043464220391293]\n",
            "[[-1.1031337284153107, -0.00013010370959799452, -1.0278401792578575], -16.162006767180344, -7.189023987862665, 0, 0.27440813805481756]\n",
            "[[-1.1031337284153107, -0.00013010370959799452, -1.0278401792578575], -16.162006767180344, -7.189023987862665, 0, 0.27440813805481756]\n",
            "[[-1.0453842827650461, -2.5134532365039673e-05, -1.1073221618171647], -16.126773004723795, -7.3138541450679115, 0, 0.5798687523073092]\n",
            "[[-1.0916832393300975, 0.003910713896094228, -1.0770711911705646], -16.10059918285625, -7.417550779692226, 0, 0.37904417846243454]\n",
            "[[-1.0763080228694328, -1.6686077619386947e-05, -1.1016177661372781], -16.08589655219918, -7.462499781774515, 0, 0.2585022077059662]\n",
            "[[-1.1187553903901568, 0.004418699255792859, -1.0770711911705646], -16.057186784590375, -7.5033894852793335, 0, 0.3085244173650459]\n",
            "[[-1.0807796923791606, -8.218022223868133e-05, -1.1325820616296793], -16.029159221111335, -7.560024659369192, 0, 0.2826033980846798]\n",
            "[[-1.112694536243794, 0.004896081582358622, -1.1073519499853741], -16.01820051748176, -7.605704917213058, 0, 0.4509576253209282]\n",
            "[[-1.112694536243794, 0.0020170596310111494, -1.171619458075615], -15.915888360527251, -7.672232611445573, 0, 0.2430468742506573]\n",
            "[[-1.112694536243794, 0.0020170596310111494, -1.171619458075615], -15.915888360527251, -7.672232611445573, 0, 0.2430468742506573]\n",
            "[[-1.1513609234104198, -1.743075915058063e-06, -1.13617639781871], -15.910506772273292, -7.741058046255248, 0, 0.2256166528731569]\n",
            "[[-1.1513609234104198, -5.040350132048388e-07, -1.1539524558711403], -15.88223150936076, -7.75138408671566, 0, 0.5976832471596296]\n",
            "[[-1.1073519499853741, -0.5648425466828025, -1.0805665856021163], -15.634763560372647, -7.764156457934418, 0, 0.3835391248515929]\n",
            "[[-1.1073519499853741, -0.5648425466828025, -1.0805665856021163], -15.634763560372647, -7.764156457934418, 0, 0.3835391248515929]\n",
            "[[-1.1448030092228276, -0.5648425466828025, -1.0805665856021163], -15.582725104473113, -7.835416806679605, 0, 0.43381458789375493]\n",
            "[[-1.104488167751545, -0.5815301960390535, -1.1073519499853741], -15.577590373099387, -7.923890564608035, 0, 0.20553749301584467]\n",
            "[[-1.104488167751545, -0.5815301960390535, -1.1073519499853741], -15.577590373099387, -7.923890564608035, 0, 0.20553749301584467]\n",
            "[[-1.0904441448859221, -0.6348959240093802, -1.0805260346347378], -15.552587370848126, -8.010816566070464, 0, 0.1834507058747903]\n",
            "[[-1.0904441448859221, -0.6348959240093802, -1.0805260346347378], -15.552587370848126, -8.010816566070464, 0, 0.1834507058747903]\n",
            "[[-1.0904441448859221, -0.6456614653365487, -1.0805260346347378], -15.53558360355201, -8.065334500935448, 0, 0.40294764720279375]\n",
            "[[-1.069960383278905, -0.6810272139727247, -1.0805260346347378], -15.50523709009251, -8.164940108916245, 0, 0.3220614191884046]\n",
            "[[-1.089869137967813, -0.669205309839394, -1.0805665856021163], -15.498438731627108, -8.189220338604748, 0, 0.3852926123729077]\n",
            "[[-1.0904441448859221, -0.6907270374508183, -1.0805260346347378], -15.462361737538178, -8.314711062548366, 0, 0.2975836561595617]\n",
            "[[-1.0904441448859221, -0.6907270374508183, -1.0805260346347378], -15.462361737538178, -8.314711062548366, 0, 0.2975836561595617]\n",
            "[[-1.0904441448859221, -0.7083267641643791, -1.0805260346347378], -15.432907225880639, -8.421272489017841, 0, 0.29396855536252353]\n",
            "[[-1.0904441448859221, -0.7083267641643791, -1.0805260346347378], -15.432907225880639, -8.421272489017841, 0, 0.29396855536252353]\n",
            "[[-1.0440219990779005, -0.8001325079912498, -1.0304750259561903], -15.390213322495548, -8.53653120286826, 0, 0.5257737555544644]\n",
            "[[-1.1073221618171647, -0.7390996557684478, -1.0690183021926616], -15.373426421753482, -8.624678562667917, 0, 0.2809418205000149]\n",
            "[[-1.1073221618171647, -0.7390996557684478, -1.0690183021926616], -15.373426421753482, -8.624678562667917, 0, 0.2809418205000149]\n",
            "[[-1.0904441448859221, -0.7609680724355213, -1.0805260346347378], -15.34211733772703, -8.769377038599757, 0, 0.5420418218209484]\n",
            "[[-1.104488167751545, -0.754041842795535, -1.1073519499853741], -15.302681387703485, -8.87578883131361, 0, 0.321225600930088]\n",
            "[[-1.0366578783465714, -0.8283476198861843, -1.0770711911705646], -15.289479400494685, -8.972365252784638, 0, 0.21546191373446]\n",
            "[[-1.0366578783465714, -0.8283476198861843, -1.0770711911705646], -15.289479400494685, -8.972365252784638, 0, 0.21546191373446]\n",
            "[[-1.0904441448859221, -0.8007938887398433, -1.0805260346347378], -15.270924340653885, -9.05949369799847, 0, 0.5634825730082618]\n",
            "[[-1.1032999781852793, -0.8396161282189041, -1.0412018280877215], -15.231173851585888, -9.195800990379972, 0, 0.5309734870380396]\n",
            "[[-1.0192058383332188, -0.8903769264641284, -1.058913451175539], -15.211505996689109, -9.265562097552714, 0, 0.24018054691860513]\n",
            "[[-1.020121257862533, -0.9145624443117087, -1.0278401792578575], -15.197701446723908, -9.282418858977294, 0, 0.24918320925183934]\n",
            "[[-1.020121257862533, -0.9145624443117087, -1.040309077771488], -15.183528209964331, -9.362175915453856, 0, 0.24083256176200862]\n",
            "[[-1.020121257862533, -0.9145624443117087, -1.040309077771488], -15.183528209964331, -9.362175915453856, 0, 0.24083256176200862]\n",
            "[[-1.104488167751545, -0.8355925241576969, -1.1073519499853741], -15.157753539186213, -9.483303513201609, 0, 0.19524805125039713]\n",
            "[[-1.104488167751545, -0.8355925241576969, -1.1073519499853741], -15.157753539186213, -9.483303513201609, 0, 0.19524805125039713]\n",
            "[[-1.020121257862533, -0.9145624443117087, -1.0690183021926616], -15.150716898895332, -9.524612655635254, 0, 0.3739784821582717]\n",
            "[[-1.0665039342155362, -0.9145624443117087, -1.040309077771488], -15.130677482428052, -9.643216697522583, 0, 0.2100769726461973]\n",
            "[[-1.0665039342155362, -0.9145624443117087, -1.040309077771488], -15.130677482428052, -9.643216697522583, 0, 0.2100769726461973]\n",
            "[[-1.0366578783465714, -0.9178908759971937, -1.0770711911705646], -15.11611026482035, -9.700082994206468, 0, 0.3729142509123804]\n",
            "[[-1.1073221618171647, -0.8854329301673789, -1.0805260346347378], -15.09339827444046, -9.792394614991181, 0, 0.1867729666273732]\n",
            "[[-1.1073221618171647, -0.8854329301673789, -1.0805260346347378], -15.09339827444046, -9.792394614991181, 0, 0.1867729666273732]\n",
            "[[-1.1103217849369678, -0.9293527238645254, -1.0337384022492369], -15.058582082987817, -9.903739605645828, 0, 0.2667682052258229]\n",
            "[[-1.1103217849369678, -0.9293527238645254, -1.0337384022492369], -15.058582082987817, -9.903739605645828, 0, 0.2667682052258229]\n",
            "[[-1.1073519499853741, -0.9250241307969526, -1.0698040204632449], -15.029604064760477, -10.067117965999792, 0, 0.31263051656291374]\n",
            "[[-1.1073519499853741, -0.9250241307969526, -1.0698040204632449], -15.029604064760477, -10.067117965999792, 0, 0.31263051656291374]\n",
            "[[-1.1073519499853741, -0.9368937367975333, -1.0698040204632449], -15.006430579877335, -10.16421861909826, 0, 0.4324800645423892]\n",
            "[[-1.0665039342155362, -0.988656550938982, -1.040309077771488], -14.981139899210328, -10.234893832720838, 0, 0.36128261135940676]\n",
            "[[-1.048940763004678, -0.9722383978124776, -1.0996027506693424], -14.968375169481554, -10.306804514382183, 0, 0.2139700324199012]\n",
            "[[-1.048940763004678, -0.9722383978124776, -1.1045312976247925], -14.962865826338387, -10.323604776058847, 0, 0.16514533643091234]\n",
            "[[-1.048940763004678, -0.9722383978124776, -1.1045312976247925], -14.962865826338387, -10.323604776058847, 0, 0.16514533643091234]\n",
            "[[-1.104488167751545, -0.9529291376677702, -1.1073519499853741], -14.935847817455713, -10.439422498787254, 0, 0.296987922263968]\n",
            "[[-1.104488167751545, -0.9529291376677702, -1.1073519499853741], -14.935847817455713, -10.439422498787254, 0, 0.296987922263968]\n",
            "[[-1.0965902141799242, -0.9722383978124776, -1.107322138159185], -14.906886036122184, -10.564612908106612, 0, 0.40556494417251443]\n",
            "[[-1.1073221618171647, -0.9722383978124776, -1.107322138159185], -14.894889763862178, -10.601246917279976, 0, 0.2504172510186642]\n",
            "[[-1.1073221618171647, -0.9940334078346919, -1.0805260346347378], -14.88135725195394, -10.6642927494477, 0, 0.2635658936635412]\n",
            "[[-1.1073221618171647, -0.9940334078346919, -1.0805260346347378], -14.88135725195394, -10.6642927494477, 0, 0.2635658936635412]\n",
            "[[-1.0929117445323042, -1.0295711766123745, -1.0690183021926616], -14.837620031057321, -10.80754307813866, 0, 0.23526367789719416]\n",
            "[[-1.0929117445323042, -1.0295711766123745, -1.0690183021926616], -14.837620031057321, -10.80754307813866, 0, 0.23526367789719416]\n",
            "[[-1.0929117445323042, -1.0295711766123745, -1.097856214542584], -14.806614574452933, -10.934034652477518, 0, 0.3125096447395279]\n",
            "[[-1.1039675713817503, -1.0278401792578575, -1.1121907623204748], -14.782650940426265, -11.008974886986461, 0, 0.2612753863600261]\n",
            "[[-1.104488167751545, -1.0412018280877215, -1.1121907623204748], -14.755157591836149, -11.095957669258734, 0, 0.2740450057980368]\n",
            "[[-1.104488167751545, -1.0412018280877215, -1.1121907623204748], -14.755157591836149, -11.095957669258734, 0, 0.2740450057980368]\n",
            "[[-1.0929117445323042, -1.0690183021926616, -1.1121907623204748], -14.710880282911866, -11.211249235270099, 0, 0.3093094279699251]\n",
            "[[-1.0929117445323042, -1.0690183021926616, -1.1121907623204748], -14.710880282911866, -11.211249235270099, 0, 0.3093094279699251]\n",
            "[[-1.1073221618171647, -1.0842950792986759, -1.107322138159185], -14.669546601518551, -11.319656106911061, 0, 0.4223150226684851]\n",
            "[[-1.104488167751545, -1.1073519499853741, -1.1073519499853741], -14.62493916897458, -11.397121042247742, 0, 0.29909102005539623]\n",
            "[[-1.0991347572144383, -1.1073221618171647, -1.1465008792033684], -14.5898107029366, -11.450882676656773, 0, 0.3079695030726306]\n",
            "[[-1.1187553903901568, -1.1039675713817503, -1.1822020146050396], -14.53875431161886, -11.464920936428337, 0, 0.20861535910998796]\n",
            "[[-1.0929117445323042, -1.1371896091368805, -1.1526320659462954], -14.528314820739023, -11.493694474014191, 0, 0.28095692200453826]\n",
            "[[-1.1073519499853741, -1.1526320659462954, -1.1483223681442567], -14.486207222930355, -11.552852308742102, 0, 0.1848742233925016]\n",
            "[[-1.1073519499853741, -1.1526320659462954, -1.1483223681442567], -14.486207222930355, -11.552852308742102, 0, 0.1848742233925016]\n",
            "[[-1.132455846493907, -1.1526320659462954, -1.1483223681442567], -14.460837714742942, -11.611091591410611, 0, 0.1893999354608411]\n",
            "[[-1.1371896091368805, -1.1526320659462954, -1.1483223681442567], -14.45603134500995, -11.617376398552118, 0, inf]\n",
            "[[-1.1371896091368805, -1.1526320659462954, -1.1483223681442567], -14.45603134500995, -11.617376398552118, 0, inf]\n"
          ]
        },
        {
          "output_type": "display_data",
          "data": {
            "image/png": "[encoded data removed]",
            "text/plain": [
              "<Figure size 432x288 with 1 Axes>"
            ]
          },
          "metadata": {
            "needs_background": "light"
          }
        },
        {
          "output_type": "display_data",
          "data": {
            "image/png": "[encoded data removed]",
            "text/plain": [
              "<Figure size 432x288 with 1 Axes>"
            ]
          },
          "metadata": {
            "needs_background": "light"
          }
        },
        {
          "output_type": "display_data",
          "data": {
            "image/png": "[encoded data removed]",
            "text/plain": [
              "<Figure size 432x288 with 1 Axes>"
            ]
          },
          "metadata": {
            "needs_background": "light"
          }
        }
      ]
    },
    {
      "cell_type": "code",
      "source": [
        ""
      ],
      "metadata": {
        "id": "85PaO0zpjIDH"
      },
      "execution_count": null,
      "outputs": []
    }
  ]
}